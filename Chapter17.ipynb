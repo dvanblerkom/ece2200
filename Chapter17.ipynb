{
 "cells": [
  {
   "cell_type": "markdown",
   "id": "adb0b3cb-98e7-43aa-8663-75c108689c4a",
   "metadata": {},
   "source": [
    "ECE 2200 - Chapter 17 notebook"
   ]
  },
  {
   "cell_type": "markdown",
   "id": "e8ff312c-ef42-4426-9765-ae150fe0ceaf",
   "metadata": {},
   "source": [
    "Copyright (C) 2022 Daniel Van Blerkom"
   ]
  },
  {
   "cell_type": "code",
   "execution_count": 15,
   "id": "982937c1-0e41-49f2-8513-a340095cb2dc",
   "metadata": {},
   "outputs": [],
   "source": [
    "import math\n",
    "import numpy as np\n",
    "%matplotlib inline\n",
    "import matplotlib.pyplot as plt"
   ]
  },
  {
   "cell_type": "markdown",
   "id": "0f8c7e02-bb7c-442a-bcb3-ef1d0c0ce95c",
   "metadata": {},
   "source": [
    "Here is the equation for a MOSFET in saturation (exculding the short-channel effect)"
   ]
  },
  {
   "cell_type": "code",
   "execution_count": 16,
   "id": "335826d9-f786-4c9f-9d8f-783055c8ad31",
   "metadata": {},
   "outputs": [],
   "source": [
    "def Idsat(uCox,W,L,Vgs,Vth): return 0.5*uCox*(W/L)*math.pow(Vgs-Vth,2)"
   ]
  },
  {
   "cell_type": "markdown",
   "id": "b8f6aa12-3429-4b3f-a91b-acd1bf58317e",
   "metadata": {},
   "source": [
    "#### Problem 17.1\n",
    "\n",
    "The transistor will come out of saturation when the drain drops below the gate by Vth; which means the IR drop on Rd will equal Vth.\n",
    "\n",
    "Solve for W/L by setting IR drop on Rd to Vth"
   ]
  },
  {
   "cell_type": "code",
   "execution_count": 17,
   "id": "574de9e5-ad0c-46cf-8ce4-b87b15a000a4",
   "metadata": {},
   "outputs": [],
   "source": [
    "def W_Lsat(uCox,Vgs,Vth,Rd): return Vth/(0.5*uCox*math.pow(Vgs-Vth,2)*Rd)"
   ]
  },
  {
   "cell_type": "code",
   "execution_count": 18,
   "id": "80a4c0d1-a968-4cb9-9288-bc49f81648ec",
   "metadata": {},
   "outputs": [
    {
     "data": {
      "text/plain": [
       "2.0408163265306123"
      ]
     },
     "execution_count": 18,
     "metadata": {},
     "output_type": "execute_result"
    }
   ],
   "source": [
    "W_Lsat(200E-6,1.8,0.4,1000)"
   ]
  },
  {
   "cell_type": "markdown",
   "id": "0db4c88c-e85d-4a9b-825d-14f1cd3cfe02",
   "metadata": {},
   "source": [
    "#### Problem 17.2\n",
    "\n",
    "First solve for Vgs, then find the value of the resistors that meets the minimum impedance requirement."
   ]
  },
  {
   "cell_type": "code",
   "execution_count": 19,
   "id": "13d93fdd-8d5f-477a-8bd2-33f3c574255d",
   "metadata": {},
   "outputs": [],
   "source": [
    "def Vgs(Idsat,uCox,W,L,Vth): return math.sqrt(2*Idsat*L/(uCox*W))+Vth"
   ]
  },
  {
   "cell_type": "code",
   "execution_count": 20,
   "id": "30c72753-8230-4bb5-858b-411e1918a56c",
   "metadata": {},
   "outputs": [
    {
     "data": {
      "text/plain": [
       "0.7"
      ]
     },
     "execution_count": 20,
     "metadata": {},
     "output_type": "execute_result"
    }
   ],
   "source": [
    "Vgs(0.001,200E-6,20,0.18,0.4)"
   ]
  },
  {
   "cell_type": "markdown",
   "id": "e26d6686-880f-41ff-b2f7-b2a38fe57dd3",
   "metadata": {},
   "source": [
    "The two equations are R1 || R2 = Rin (this solves for the input impedance);\n",
    "and R1/R2 = (Vdd-Vgs)/Vgs (this solves for the voltage divider Vgs bias condition).\n",
    "\n",
    "Since we have two equations and two unknowns, we can solve for R1 and R2.\n",
    "\n",
    "Here's the equation for R2."
   ]
  },
  {
   "cell_type": "code",
   "execution_count": 21,
   "id": "aafe4cba-15e7-4429-b82f-2d389cd3f023",
   "metadata": {},
   "outputs": [],
   "source": [
    "def R2min(Vdd,Vgs,Rin): return (1+((Vdd-Vgs)/Vgs))*Rin/((Vdd-Vgs)/Vgs)"
   ]
  },
  {
   "cell_type": "code",
   "execution_count": 22,
   "id": "de14dfc7-05ff-43e3-92ae-5d01e7eb3d7e",
   "metadata": {},
   "outputs": [
    {
     "data": {
      "text/plain": [
       "32727.272727272728"
      ]
     },
     "execution_count": 22,
     "metadata": {},
     "output_type": "execute_result"
    }
   ],
   "source": [
    "R2min(1.8,0.7,20000.0)"
   ]
  },
  {
   "cell_type": "markdown",
   "id": "0199c885-dd11-44d0-9633-b1d79fb3f934",
   "metadata": {},
   "source": [
    "#### Problem 17.4\n",
    "\n",
    "200mV across 100ohm means Ids = 2mA\n",
    "\n",
    "Drop on load resistor = 500 ohm * 2mA = 1V\n",
    "\n",
    "Voltage at Drain: Vd = 1.8V - 1.0V = 0.8V.  \n",
    "Voltage at Source: Vs = 0.2V.  \n",
    "Vds = 0.6V.\n",
    "\n",
    "Vgs = Vds + Vth for edge of saturation = 0.6V + 0.4V = 1.0V\n",
    "We can use Vgs and Ids to find W/L.\n",
    "\n",
    "Vg = Vgs + Vs = 1.0V + 0.2V = 1.2V\n",
    "We use Vg and the minimum Rin to find R2, just like in problem 17.2\n"
   ]
  },
  {
   "cell_type": "code",
   "execution_count": 23,
   "id": "95a559a7-0e88-40c6-ad9a-e4c08fb9a7f6",
   "metadata": {},
   "outputs": [],
   "source": [
    "def W_Lsat2(uCox,Vgs,Vth,Id): return Id/(0.5*uCox*math.pow(Vgs-Vth,2))"
   ]
  },
  {
   "cell_type": "code",
   "execution_count": 24,
   "id": "0cebb1cb-c1e6-48e6-a65b-2fc90931a63b",
   "metadata": {},
   "outputs": [
    {
     "data": {
      "text/plain": [
       "55.55555555555556"
      ]
     },
     "execution_count": 24,
     "metadata": {},
     "output_type": "execute_result"
    }
   ],
   "source": [
    "W_Lsat2(200E-6,1.0,0.4,2E-3)"
   ]
  },
  {
   "cell_type": "code",
   "execution_count": 25,
   "id": "59b68af7-ea08-4a90-a1b2-96c512c1d7b8",
   "metadata": {},
   "outputs": [
    {
     "data": {
      "text/plain": [
       "89999.99999999999"
      ]
     },
     "execution_count": 25,
     "metadata": {},
     "output_type": "execute_result"
    }
   ],
   "source": [
    "R2min(1.8,1.2,30E3)"
   ]
  },
  {
   "cell_type": "markdown",
   "id": "e914defd-0c3a-446b-9bd4-cf1edc153261",
   "metadata": {},
   "source": [
    "#### Problem 17.6\n",
    "\n",
    "Id = 1 mA.\n",
    "\n",
    "Vgs = Vds = Id * Rd\n",
    "\n",
    "gm = 2*Id/(Vgs-Vth)\n",
    "\n",
    "-> gm = 2*Id/(Vdd - Id*Rd - Vth) = 1/100ohm  -> solve for Rd."
   ]
  },
  {
   "cell_type": "code",
   "execution_count": 26,
   "id": "7bc24761-b436-4c37-b7d7-fd4f2252305c",
   "metadata": {},
   "outputs": [],
   "source": [
    "def Rd_self(Id,gm,Vth,Vdd): return ((Vdd-Vth)/Id) - (2/gm)"
   ]
  },
  {
   "cell_type": "code",
   "execution_count": 27,
   "id": "8ae8b566-fdf8-4439-ace5-9047d292ff78",
   "metadata": {},
   "outputs": [
    {
     "data": {
      "text/plain": [
       "1199.9999999999998"
      ]
     },
     "execution_count": 27,
     "metadata": {},
     "output_type": "execute_result"
    }
   ],
   "source": [
    "Rd_self(1E-3,1/100,0.4,1.8)"
   ]
  },
  {
   "cell_type": "markdown",
   "id": "6a00885a-fc2f-4363-98f4-5eb2aea14ab1",
   "metadata": {},
   "source": [
    "#### Problem 17.11\n",
    "\n",
    "Rearrange the Ids equation (with the short channel effect) to solve for W.\n"
   ]
  },
  {
   "cell_type": "code",
   "execution_count": 28,
   "id": "3f05f8c8-7d52-47c0-8a42-be72afb7f3af",
   "metadata": {},
   "outputs": [],
   "source": [
    "def W_solve(uCox,L,Vgs,Vds,Vth,Id,lam): return (Id*L)/(0.5*uCox*math.pow(Vgs-Vth,2)*(1+lam*Vds))"
   ]
  },
  {
   "cell_type": "code",
   "execution_count": 29,
   "id": "d54f171f-d910-438e-8bd7-a2ae69812c5d",
   "metadata": {},
   "outputs": [
    {
     "data": {
      "text/plain": [
       "1.446759259259259e-05"
      ]
     },
     "execution_count": 29,
     "metadata": {},
     "output_type": "execute_result"
    }
   ],
   "source": [
    "W_solve(200E-6,0.25E-6,0.8,0.8,0.4,1E-3,0.1)"
   ]
  },
  {
   "cell_type": "code",
   "execution_count": 30,
   "id": "84858302-27a7-4f74-971e-899c2250e1ef",
   "metadata": {},
   "outputs": [
    {
     "data": {
      "text/plain": [
       "7.233796296296295e-06"
      ]
     },
     "execution_count": 30,
     "metadata": {},
     "output_type": "execute_result"
    }
   ],
   "source": [
    "W_solve(200E-6,0.25E-6,0.8,0.8,0.4,0.5E-3,0.1)"
   ]
  },
  {
   "cell_type": "markdown",
   "id": "7e9748fa-6642-48d5-b2dc-ab357229e277",
   "metadata": {},
   "source": [
    "output impedance Ro = 1/(lambda*Id)"
   ]
  },
  {
   "cell_type": "code",
   "execution_count": 31,
   "id": "775a8280-f48c-4d0a-860b-836e173321aa",
   "metadata": {},
   "outputs": [
    {
     "data": {
      "text/plain": [
       "10000.0"
      ]
     },
     "execution_count": 31,
     "metadata": {},
     "output_type": "execute_result"
    }
   ],
   "source": [
    "1/(0.1*1E-3)"
   ]
  },
  {
   "cell_type": "code",
   "execution_count": 32,
   "id": "86708ea5-ca07-4296-ad48-726cd95cbe9c",
   "metadata": {},
   "outputs": [
    {
     "data": {
      "text/plain": [
       "20000.0"
      ]
     },
     "execution_count": 32,
     "metadata": {},
     "output_type": "execute_result"
    }
   ],
   "source": [
    "1/(0.1*0.5E-3)"
   ]
  },
  {
   "cell_type": "markdown",
   "id": "01b17c64-fb65-4b78-9d8b-4d2a5634f7e1",
   "metadata": {},
   "source": [
    "#### Problem 17.15\n",
    "\n",
    "Assume Vdd=1.8V\n",
    "\n",
    "For Vb = 1V -> Vgs = Vb - Vdd = -0.8V\n",
    "\n",
    "We can use Idsat equation, just use the absolute value of Vgs."
   ]
  },
  {
   "cell_type": "code",
   "execution_count": 33,
   "id": "e009b539-3ffd-4dc7-8c1d-7338390d7548",
   "metadata": {},
   "outputs": [
    {
     "data": {
      "text/plain": [
       "0.0006400000000000002"
      ]
     },
     "execution_count": 33,
     "metadata": {},
     "output_type": "execute_result"
    }
   ],
   "source": [
    "Idsat(100E-6,20,0.25,0.8,0.4)"
   ]
  },
  {
   "cell_type": "code",
   "execution_count": 34,
   "id": "02a9a62d-b8b6-410a-a2e2-7d32982c9a62",
   "metadata": {},
   "outputs": [
    {
     "data": {
      "text/plain": [
       "0.0012800000000000003"
      ]
     },
     "execution_count": 34,
     "metadata": {},
     "output_type": "execute_result"
    }
   ],
   "source": [
    "Idsat(100E-6,2*20,0.25,0.8,0.4)"
   ]
  },
  {
   "cell_type": "markdown",
   "id": "c3a2ce11-5cd8-4127-83ca-3e95f0f7a00e",
   "metadata": {},
   "source": [
    "ratio of output impedances is inverse proportional to ratio of currents"
   ]
  },
  {
   "cell_type": "code",
   "execution_count": 35,
   "id": "f2b289c3-e8c6-46b5-aa66-e4f237518aad",
   "metadata": {},
   "outputs": [
    {
     "data": {
      "text/plain": [
       "0.5732050807568877"
      ]
     },
     "execution_count": 35,
     "metadata": {},
     "output_type": "execute_result"
    }
   ],
   "source": [
    "Vgs(0.0005,200E-6,30,0.18,0.4)"
   ]
  },
  {
   "cell_type": "code",
   "execution_count": 36,
   "id": "a077f8e5-4cc9-4a26-b558-47571bb664d1",
   "metadata": {},
   "outputs": [],
   "source": [
    "def gain1(Id,Vgs,Vth,Rd): return -2*Id*Rd/(Vgs-Vth)"
   ]
  },
  {
   "cell_type": "code",
   "execution_count": 37,
   "id": "d76940ab-debf-47f2-81af-292f743fd38a",
   "metadata": {},
   "outputs": [
    {
     "data": {
      "text/plain": [
       "-11.560693641618501"
      ]
     },
     "execution_count": 37,
     "metadata": {},
     "output_type": "execute_result"
    }
   ],
   "source": [
    "gain1(0.0005,0.573,0.4,2000)"
   ]
  },
  {
   "cell_type": "markdown",
   "id": "981d1e17-bc27-47ac-b2c4-ecd744956768",
   "metadata": {},
   "source": [
    "#### Problem 17.20\n",
    "\n",
    "bias current of 0.5mA -> find output impedances of M1 and M2:\n",
    "\n",
    "Ro1 = 1/(lambda1*0.5mA)\n",
    "\n",
    "Ro2 = 1/(lambda2*0.5mA)\n",
    "\n",
    "Put them in parallel"
   ]
  },
  {
   "cell_type": "code",
   "execution_count": 38,
   "id": "e4da9caa-1cfb-47c5-a6d6-7683b531eb68",
   "metadata": {},
   "outputs": [],
   "source": [
    "Ro1 = 1/(0.1*0.5E-3)"
   ]
  },
  {
   "cell_type": "code",
   "execution_count": 39,
   "id": "7f4bdad9-e442-4158-8c53-61bd8312a268",
   "metadata": {},
   "outputs": [],
   "source": [
    "Ro2 = 1/(0.15*0.5E-3)"
   ]
  },
  {
   "cell_type": "code",
   "execution_count": 40,
   "id": "543eb56d-28b0-44ce-99d9-417147eccd1e",
   "metadata": {},
   "outputs": [],
   "source": [
    "Ro = Ro1*Ro2/(Ro1+Ro2)"
   ]
  },
  {
   "cell_type": "code",
   "execution_count": 41,
   "id": "1f86aa99-3ac9-4267-ad50-80a4ecb0bd87",
   "metadata": {},
   "outputs": [
    {
     "name": "stdout",
     "output_type": "stream",
     "text": [
      "8000.0\n"
     ]
    }
   ],
   "source": [
    "print(Ro)"
   ]
  },
  {
   "cell_type": "markdown",
   "id": "b856dfd1-5bae-4813-a398-956015a03a05",
   "metadata": {},
   "source": [
    "Now we can determine how much gm we need, based on a gain of 10x"
   ]
  },
  {
   "cell_type": "code",
   "execution_count": 42,
   "id": "43aeb1e2-8834-44fe-ae4e-02fee5bb129b",
   "metadata": {},
   "outputs": [],
   "source": [
    "gm = 10/Ro"
   ]
  },
  {
   "cell_type": "code",
   "execution_count": 43,
   "id": "f58a147e-d2cf-4df6-81af-a9d8430250fe",
   "metadata": {},
   "outputs": [
    {
     "name": "stdout",
     "output_type": "stream",
     "text": [
      "0.00125\n"
     ]
    }
   ],
   "source": [
    "print(gm)"
   ]
  },
  {
   "cell_type": "markdown",
   "id": "7b51ca5b-9fbf-465a-b5e7-1999b320c488",
   "metadata": {},
   "source": [
    "Now we can find W/L, given Id and gm:"
   ]
  },
  {
   "cell_type": "code",
   "execution_count": 44,
   "id": "a11de61d-57d6-43d5-9d43-a5f93116e392",
   "metadata": {},
   "outputs": [],
   "source": [
    "def W_L3(uCox,Id,gm): return math.pow(gm,2)/(2*uCox*Id)"
   ]
  },
  {
   "cell_type": "code",
   "execution_count": 45,
   "id": "867938c1-b094-49b4-aa12-8dd0c1686622",
   "metadata": {},
   "outputs": [
    {
     "data": {
      "text/plain": [
       "7.8125"
      ]
     },
     "execution_count": 45,
     "metadata": {},
     "output_type": "execute_result"
    }
   ],
   "source": [
    "W_L3(200E-6,0.5E-3,0.00125)"
   ]
  },
  {
   "cell_type": "markdown",
   "id": "061d2ce4-ec44-483c-bffa-f640ec4db1c6",
   "metadata": {},
   "source": [
    "For M2's W/L of 20/0.18, we find Vb by solving for Vgs; then we refer this to the 1.8V source voltage for the PMOS."
   ]
  },
  {
   "cell_type": "code",
   "execution_count": 46,
   "id": "9fc38202-dc8d-4491-95c4-a822f412a1be",
   "metadata": {},
   "outputs": [
    {
     "data": {
      "text/plain": [
       "1.1"
      ]
     },
     "execution_count": 46,
     "metadata": {},
     "output_type": "execute_result"
    }
   ],
   "source": [
    "1.8-Vgs(0.0005,100E-6,20,0.18,0.4)"
   ]
  },
  {
   "cell_type": "markdown",
   "id": "77a835b5-dfce-4c9d-a8b2-f7ba36c6b0aa",
   "metadata": {},
   "source": [
    "#### Problem 7.25\n",
    "\n",
    "This circuit's load impedance is simply the gm of M2; the gain is then Av = gm1 / gm2\n",
    "\n",
    "To achieve a gain of 3, we need gm2 = 1/3 gm1. \n",
    "\n",
    "Using the equation: gm = sqrt(2 unCox W/L Id)\n",
    "\n",
    "Note also that the drain current is the same for M1 and M2, which means it cancels out, so gm1 / gm2 = sqrt(W1/L1) / sqrt(W2/L2)\n",
    "\n",
    "So W2/L2 = 1/9 * W1/L1"
   ]
  },
  {
   "cell_type": "code",
   "execution_count": 47,
   "id": "9e28cb88-ddc4-40d8-883a-fe0c1be83346",
   "metadata": {},
   "outputs": [
    {
     "name": "stdout",
     "output_type": "stream",
     "text": [
      "2.2222222222222223\n"
     ]
    }
   ],
   "source": [
    "print(20/9)"
   ]
  },
  {
   "cell_type": "markdown",
   "id": "363745e6-250c-4dd2-b610-dbba9c1749b9",
   "metadata": {},
   "source": [
    "i.e. we need W/L for M2 to be 2.22/0.18"
   ]
  },
  {
   "cell_type": "markdown",
   "id": "939e53ff-8c18-4764-9028-42e41fd28bd7",
   "metadata": {},
   "source": [
    "#### Problem 7.30\n",
    "\n",
    "Rs = 0.2 / 0.001 = 200 ohms\n",
    "\n",
    "Gain Av = gmRd / (1 + gmRs) = 4\n",
    "\n",
    "Rd = 1kohm; solve for gm\n"
   ]
  },
  {
   "cell_type": "code",
   "execution_count": 48,
   "id": "b36b2491-628f-459d-a666-3a60d82f1763",
   "metadata": {},
   "outputs": [],
   "source": [
    "def gm_degenCS(Av,Rd,Rs): return Av / (Rd - Av*Rs)"
   ]
  },
  {
   "cell_type": "code",
   "execution_count": 49,
   "id": "39081ff5-fb59-4bb9-8ebd-8e6a686f027b",
   "metadata": {},
   "outputs": [
    {
     "name": "stdout",
     "output_type": "stream",
     "text": [
      "0.02\n"
     ]
    }
   ],
   "source": [
    "print(gm_degenCS(4,1000,200))"
   ]
  },
  {
   "cell_type": "code",
   "execution_count": 50,
   "id": "eb01f6d0-1a4c-41d6-90b6-910d4a5fab37",
   "metadata": {},
   "outputs": [
    {
     "name": "stdout",
     "output_type": "stream",
     "text": [
      "1000.0\n"
     ]
    }
   ],
   "source": [
    "print(W_L3(200E-6,1E-3,0.02))"
   ]
  },
  {
   "cell_type": "markdown",
   "id": "18600993-66ee-47c7-8aef-06b4dc17c9f9",
   "metadata": {},
   "source": [
    "for W/L = 50/0.18, we can find the gm:"
   ]
  },
  {
   "cell_type": "code",
   "execution_count": 51,
   "id": "25d17c0f-7e6c-44a6-82ab-24d4b47f8e15",
   "metadata": {},
   "outputs": [
    {
     "name": "stdout",
     "output_type": "stream",
     "text": [
      "0.010540925533894598\n"
     ]
    }
   ],
   "source": [
    "print(math.sqrt(2*200E-6*50*0.001/0.18))"
   ]
  },
  {
   "cell_type": "markdown",
   "id": "35e151c1-792d-4b06-bf43-ffe12eb94b95",
   "metadata": {},
   "source": [
    "For a gain of 4, we can find the required Rd:"
   ]
  },
  {
   "cell_type": "code",
   "execution_count": 52,
   "id": "f7db70fd-1b3f-4611-b5c2-3622fe778cea",
   "metadata": {},
   "outputs": [],
   "source": [
    "def Rd_degenCS(Av,gm,Rs): return Av * (1 + gm*Rs) / gm"
   ]
  },
  {
   "cell_type": "code",
   "execution_count": 53,
   "id": "bc929809-fafc-4317-8686-f5f29064078b",
   "metadata": {},
   "outputs": [
    {
     "name": "stdout",
     "output_type": "stream",
     "text": [
      "1182.7751196172248\n"
     ]
    }
   ],
   "source": [
    "print(Rd_degenCS(4,0.01045,200))"
   ]
  },
  {
   "cell_type": "markdown",
   "id": "5506e5b6-da86-4c99-b95b-5a9ea1574c0e",
   "metadata": {},
   "source": [
    "Now check Vgs and Vds:\n",
    "\n",
    "Vds = Vdd - Id*Rd - Id*Rs\n",
    "\n",
    "Vgs = sqrt(2IdL/unCoxW) + Vth"
   ]
  },
  {
   "cell_type": "code",
   "execution_count": 54,
   "id": "3cf3c36d-1c5d-4b47-9266-cad82ecd189d",
   "metadata": {},
   "outputs": [
    {
     "name": "stdout",
     "output_type": "stream",
     "text": [
      "0.41722999999999993\n"
     ]
    }
   ],
   "source": [
    "print(1.8-0.001*1182.77-0.001*200)"
   ]
  },
  {
   "cell_type": "code",
   "execution_count": 55,
   "id": "81164817-54a2-447d-82fd-5023d15b1400",
   "metadata": {},
   "outputs": [
    {
     "data": {
      "text/plain": [
       "0.5897366596101028"
      ]
     },
     "execution_count": 55,
     "metadata": {},
     "output_type": "execute_result"
    }
   ],
   "source": [
    "Vgs(0.001,200E-6,50,0.18,0.4)"
   ]
  },
  {
   "cell_type": "markdown",
   "id": "3a78db1b-a86d-41e4-9631-b52155b74b27",
   "metadata": {},
   "source": [
    "Vds > Vgs - Vth\n",
    "\n",
    "The transistor is in saturation"
   ]
  },
  {
   "cell_type": "markdown",
   "id": "9bf1d6bf-1c4a-42b8-b348-e23d22137840",
   "metadata": {},
   "source": [
    "#### Problem 17.31\n",
    "\n",
    "set current through Rs = current through Rd:\n",
    "\n",
    "Vs/Rs = -Vout/Rd\n",
    "\n",
    "set current through gm and ro = current through Rd:\n",
    "\n",
    "gm(Vin-Vs) + (Vout-Vs)/ro = -Vout/Rd\n",
    "\n",
    "Then the full equation can be written:\n",
    "\n",
    "Vout/Vin = -gm ro Rd / (ro + Rd + Rs + gm ro Rs)\n",
    "\n",
    "if gm ro >> 1; then we can drop the terms that are missing ro, and then divide out ro, leaving:\n",
    "\n",
    "Vout/Vin = -gm Rd / (1 + gm Rs)"
   ]
  },
  {
   "cell_type": "markdown",
   "id": "bea9ba44-edd7-4993-b9d4-e6810451d6a4",
   "metadata": {},
   "source": [
    "#### Problem 17.34\n",
    "\n",
    "Vds = 1.8V - 1kohm*1mA = 0.8V\n",
    "\n",
    "we can use our formula from before to find the W/L (set L to 1 for convienence)."
   ]
  },
  {
   "cell_type": "code",
   "execution_count": 61,
   "id": "b34259b9-4f95-4549-85e3-70de3adf5673",
   "metadata": {},
   "outputs": [
    {
     "name": "stdout",
     "output_type": "stream",
     "text": [
      "25.720164609053498\n"
     ]
    }
   ],
   "source": [
    "print(W_solve(200E-6,1,1,0.8,0.4,1E-3,0.1))"
   ]
  },
  {
   "cell_type": "markdown",
   "id": "6e6aee45-4d05-421f-85b6-6162943f5c37",
   "metadata": {},
   "source": [
    "voltage gain will be \n",
    "\n",
    "Av = -gm * (ro || Rd)\n",
    "\n",
    "gm = 2 Id /(Vgs-Vth)\n",
    "\n",
    "ro = 1/(lambda * Id)"
   ]
  },
  {
   "cell_type": "code",
   "execution_count": 58,
   "id": "cc31b7c7-349f-4115-b52a-2bf240237276",
   "metadata": {},
   "outputs": [
    {
     "name": "stdout",
     "output_type": "stream",
     "text": [
      "10000.0\n"
     ]
    }
   ],
   "source": [
    "print (1/(0.1*1E-3))"
   ]
  },
  {
   "cell_type": "code",
   "execution_count": 59,
   "id": "d4b8ec56-edde-4ed0-9eda-1463371bc8c1",
   "metadata": {},
   "outputs": [
    {
     "name": "stdout",
     "output_type": "stream",
     "text": [
      "-3.0303030303030307\n"
     ]
    }
   ],
   "source": [
    "print(-1 * ((2*0.001)/(1.0-0.4)) * (1000 * 10000)/(1000+10000))"
   ]
  },
  {
   "cell_type": "markdown",
   "id": "c241a40e-07b9-4836-947f-7a0144a00b19",
   "metadata": {},
   "source": [
    "#### Problem 17.39\n",
    "\n",
    "The input impedance is 1/gm -> so gm = 1/50ohms\n",
    "\n",
    "gm = sqrt(2 unCox W/L Id)\n",
    "\n",
    "W/L = gm^2 / (2 unCox Id)"
   ]
  },
  {
   "cell_type": "code",
   "execution_count": 62,
   "id": "834e9bb7-567e-41c7-801a-5769b5c2fde3",
   "metadata": {},
   "outputs": [
    {
     "name": "stdout",
     "output_type": "stream",
     "text": [
      "2000.0\n"
     ]
    }
   ],
   "source": [
    "print(math.pow(1/50,2) / (2 * 200E-6 * 0.5E-3))"
   ]
  },
  {
   "cell_type": "markdown",
   "id": "5534dc41-12cf-4b3f-92a7-f7574602a76e",
   "metadata": {},
   "source": [
    "The gain is just gm*Rd, so Rd = Av/gm = 4 * 50ohms = 200ohms"
   ]
  },
  {
   "cell_type": "markdown",
   "id": "2a116d60-64b0-4454-a826-abcf2897756a",
   "metadata": {},
   "source": [
    "#### Problem 17.42\n",
    "\n",
    "Rd = 500 ohms (since lambda = 0)\n",
    "\n",
    "This problem assumes Vin is biased around 0V (although that is not explicitly mentioned!)\n",
    "\n",
    "So, Vgs = 1.8V, which means Vds > Vgs-Vth = 1.4V.  This means Id*Rd = 0.4V\n",
    "\n",
    "so Id <= 0.4V/500ohm = 0.8mA"
   ]
  },
  {
   "cell_type": "code",
   "execution_count": 64,
   "id": "b3c759e4-dd9c-46b5-bda8-5180ee2c6d41",
   "metadata": {},
   "outputs": [
    {
     "name": "stdout",
     "output_type": "stream",
     "text": [
      "1250.0\n"
     ]
    }
   ],
   "source": [
    "print(W_L3(200E-6,0.8E-3,(1/50)))"
   ]
  },
  {
   "cell_type": "code",
   "execution_count": 65,
   "id": "80795e17-fed1-474f-b608-aac8d5f30963",
   "metadata": {},
   "outputs": [
    {
     "name": "stdout",
     "output_type": "stream",
     "text": [
      "10.0\n"
     ]
    }
   ],
   "source": [
    "print((1/50)*500)"
   ]
  },
  {
   "cell_type": "markdown",
   "id": "df2478d5-f358-49c7-8ab4-0ae437e2f2e7",
   "metadata": {},
   "source": [
    "#### Problem 17.49\n",
    "\n",
    "Set current through M1 = current through Rs:\n",
    "\n",
    "0.5 unCox W/L (Vin - Vout - Vth)^2 = Vout / Rs\n",
    "\n",
    "Vin = 1.8V bias point;  solve for Vout bias point...  we need to use the quadratic equation\n",
    "\n",
    "a = 1\n",
    "\n",
    "b = -(2 (Vin-Vth) + 1/(0.5 uCox W/L Rs) )\n",
    "\n",
    "c = (Vin - Vth)^2\n",
    "\n"
   ]
  },
  {
   "cell_type": "code",
   "execution_count": 81,
   "id": "53cb51a9-d614-40a6-be00-412a51f82a7f",
   "metadata": {},
   "outputs": [],
   "source": [
    "b = -1*(2*(1.8-0.4) + (1/ (0.5* 200E-6 * (20/0.18) * 1000)))"
   ]
  },
  {
   "cell_type": "code",
   "execution_count": 82,
   "id": "d99d6d10-f838-48ac-adb0-7a5d50f96e50",
   "metadata": {},
   "outputs": [],
   "source": [
    "c = math.pow(1.8-0.4,2)"
   ]
  },
  {
   "cell_type": "code",
   "execution_count": 83,
   "id": "f57c5209-d492-41be-b918-c1e82c119dd9",
   "metadata": {},
   "outputs": [
    {
     "name": "stdout",
     "output_type": "stream",
     "text": [
      "-2.8899999999999997\n"
     ]
    }
   ],
   "source": [
    "print(b)"
   ]
  },
  {
   "cell_type": "code",
   "execution_count": 84,
   "id": "0870dd0c-7505-45e7-8c36-941dc6871543",
   "metadata": {},
   "outputs": [
    {
     "name": "stdout",
     "output_type": "stream",
     "text": [
      "1.9599999999999997\n"
     ]
    }
   ],
   "source": [
    "print(c)"
   ]
  },
  {
   "cell_type": "code",
   "execution_count": 89,
   "id": "3664deeb-7d6d-4fec-b7be-9a50619c397c",
   "metadata": {},
   "outputs": [
    {
     "name": "stdout",
     "output_type": "stream",
     "text": [
      "1.0871941867437032\n"
     ]
    }
   ],
   "source": [
    "print((-1*b - math.sqrt((math.pow(b,2)-4*c)))/2)"
   ]
  },
  {
   "cell_type": "markdown",
   "id": "b8c0cd55-5849-4154-be29-48aee8efaaeb",
   "metadata": {},
   "source": [
    "So the current is 1.087mA\n",
    "\n",
    "gm = 2 Id/(Vgs-Vth); and ro = 1/(lambda Id)\n",
    "\n",
    "Source follower gain = ro||Rs / (1/gm + ro||Rs)\n",
    "\n"
   ]
  },
  {
   "cell_type": "code",
   "execution_count": 92,
   "id": "ba12beda-a0f6-4c43-ab14-772ef648fbb4",
   "metadata": {},
   "outputs": [],
   "source": [
    "gm = 2*1.087E-3/(1.8-1.087-0.4)"
   ]
  },
  {
   "cell_type": "code",
   "execution_count": 93,
   "id": "b908f6e2-4ce5-4af1-9bd7-c1947c9937be",
   "metadata": {},
   "outputs": [],
   "source": [
    "ro = 1/(0.1*1.087E-3)"
   ]
  },
  {
   "cell_type": "code",
   "execution_count": 94,
   "id": "c4b3934d-0c30-48f1-8062-1f8ed44ee424",
   "metadata": {},
   "outputs": [
    {
     "name": "stdout",
     "output_type": "stream",
     "text": [
      "0.006945686900958465\n"
     ]
    }
   ],
   "source": [
    "print(gm)"
   ]
  },
  {
   "cell_type": "code",
   "execution_count": 95,
   "id": "92affd1f-03e6-48cd-b0de-b659ab98684a",
   "metadata": {},
   "outputs": [
    {
     "name": "stdout",
     "output_type": "stream",
     "text": [
      "9199.632014719411\n"
     ]
    }
   ],
   "source": [
    "print(ro)"
   ]
  },
  {
   "cell_type": "code",
   "execution_count": 96,
   "id": "8463c33c-9f1b-48d7-a31d-55e50098a166",
   "metadata": {},
   "outputs": [
    {
     "name": "stdout",
     "output_type": "stream",
     "text": [
      "901.9572472264815\n"
     ]
    }
   ],
   "source": [
    "print(ro*1000/(ro+1000))"
   ]
  },
  {
   "cell_type": "code",
   "execution_count": 97,
   "id": "cac82c5f-3f3e-42bd-aa2f-ff7cb62e62da",
   "metadata": {},
   "outputs": [
    {
     "name": "stdout",
     "output_type": "stream",
     "text": [
      "0.8623486684129124\n"
     ]
    }
   ],
   "source": [
    "print(901.96/((1/gm)+901.96))"
   ]
  },
  {
   "cell_type": "markdown",
   "id": "ea8fe131-8bb0-4e0c-98d8-f5ef46fb7746",
   "metadata": {},
   "source": [
    "#### Problem 17.50\n",
    "\n",
    "Av = Rs / (1/gm + Rs) ...  we ignore ro since lambda = 0\n",
    "\n",
    "Rs = 500 ohms, Av = 0.8 -> solve for gm"
   ]
  },
  {
   "cell_type": "code",
   "execution_count": 99,
   "id": "63809850-dc42-4992-97fd-1d4ce35e6926",
   "metadata": {},
   "outputs": [
    {
     "name": "stdout",
     "output_type": "stream",
     "text": [
      "0.008000000000000002\n"
     ]
    }
   ],
   "source": [
    "print(0.8 / (500 * (1-0.8)))"
   ]
  },
  {
   "cell_type": "markdown",
   "id": "5c050ddd-f4f6-4707-a8f3-fb9c3ab496cd",
   "metadata": {},
   "source": [
    "now solve for the current, using\n",
    "\n",
    "Id = gm^2 / (2 unCox W/L)"
   ]
  },
  {
   "cell_type": "code",
   "execution_count": 100,
   "id": "3426fc67-0378-437d-b261-c88792eef3fb",
   "metadata": {},
   "outputs": [
    {
     "name": "stdout",
     "output_type": "stream",
     "text": [
      "0.0009599999999999998\n"
     ]
    }
   ],
   "source": [
    "print(math.pow(0.008,2)/(2 * 200E-6 * (30/0.18)))"
   ]
  },
  {
   "cell_type": "markdown",
   "id": "87001708-c7d2-42cf-9327-8577c02434c6",
   "metadata": {},
   "source": [
    "The voltage at the source is Id*Rs\n",
    "\n",
    "The Vgs-Vth voltage can be found from 2*Id/gm\n",
    "\n",
    "The the gate voltage is Vgs + Vs"
   ]
  },
  {
   "cell_type": "code",
   "execution_count": 101,
   "id": "e5ad71d9-c55d-4529-97f1-ffc87aa1598d",
   "metadata": {},
   "outputs": [
    {
     "name": "stdout",
     "output_type": "stream",
     "text": [
      "0.48000000000000004\n"
     ]
    }
   ],
   "source": [
    "print(0.00096 * 500)"
   ]
  },
  {
   "cell_type": "code",
   "execution_count": 102,
   "id": "2e4ebd83-f142-4417-a4c8-be29cdb9e90d",
   "metadata": {},
   "outputs": [
    {
     "name": "stdout",
     "output_type": "stream",
     "text": [
      "0.24\n"
     ]
    }
   ],
   "source": [
    "print(2*0.00096/0.008)"
   ]
  },
  {
   "cell_type": "code",
   "execution_count": 103,
   "id": "ccdba7cb-54e3-473e-9214-bdba883a7cc7",
   "metadata": {},
   "outputs": [
    {
     "name": "stdout",
     "output_type": "stream",
     "text": [
      "1.12\n"
     ]
    }
   ],
   "source": [
    "print(0.24 + 0.4 + 0.48)"
   ]
  },
  {
   "cell_type": "code",
   "execution_count": null,
   "id": "0e652344-a8fc-4033-b049-0ac8476cc09d",
   "metadata": {},
   "outputs": [],
   "source": []
  }
 ],
 "metadata": {
  "kernelspec": {
   "display_name": "Python 3 (ipykernel)",
   "language": "python",
   "name": "python3"
  },
  "language_info": {
   "codemirror_mode": {
    "name": "ipython",
    "version": 3
   },
   "file_extension": ".py",
   "mimetype": "text/x-python",
   "name": "python",
   "nbconvert_exporter": "python",
   "pygments_lexer": "ipython3",
   "version": "3.9.7"
  }
 },
 "nbformat": 4,
 "nbformat_minor": 5
}
