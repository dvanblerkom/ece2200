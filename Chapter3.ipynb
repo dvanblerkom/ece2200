{
 "cells": [
  {
   "cell_type": "markdown",
   "id": "ed1ed9f7-57e7-495b-bba9-03053529449b",
   "metadata": {},
   "source": [
    "# ECE 2200 - Chapter 3 notebook\n",
    "Copyright (C) 2022 Daniel Van Blerkom"
   ]
  },
  {
   "cell_type": "code",
   "execution_count": 2,
   "id": "30557c87-a2df-489c-84b7-4c32767fb039",
   "metadata": {},
   "outputs": [],
   "source": [
    "import math\n",
    "import numpy as np\n",
    "%matplotlib inline\n",
    "import matplotlib.pyplot as plt\n"
   ]
  },
  {
   "cell_type": "markdown",
   "id": "b07f08b7-d8b9-49c1-b0d1-92524b601511",
   "metadata": {},
   "source": [
    "Let's define the functions for the equations for the voltage ripple and peak diode current for the half-wave rectifier:"
   ]
  },
  {
   "cell_type": "code",
   "execution_count": 3,
   "id": "a3483962-b00b-4f2a-a52a-275b3f2f4a19",
   "metadata": {},
   "outputs": [],
   "source": [
    "def Vripple(Vp,RL,C1,Vdon,f): return (Vp - Vdon)/(RL*C1*f)"
   ]
  },
  {
   "cell_type": "code",
   "execution_count": 4,
   "id": "60e301ec-3c04-4066-9b4c-6adb07355841",
   "metadata": {},
   "outputs": [],
   "source": [
    "def Ipeak(Vp,RL,C1,Vdon,f): return (Vp/RL)*(1 + RL*C1*2*3.14159*f*math.sqrt(2*Vripple(Vp,RL,C1,Vdon,f)/Vp))"
   ]
  },
  {
   "cell_type": "markdown",
   "id": "8360f18a-59ca-4f0b-914f-3020e2890bfb",
   "metadata": {},
   "source": [
    "Now let's compare how the ripple and peak current scales when we use larger smoothing capacitors.\n",
    "\n",
    "As you can see, the ripple gets smaller but the peak current gets larger."
   ]
  },
  {
   "cell_type": "code",
   "execution_count": 5,
   "id": "600ddfa4-92c5-408d-adae-99cb61eb4218",
   "metadata": {},
   "outputs": [],
   "source": [
    "Cps = np.arange(-2.0,0.0,0.1)\n",
    "Cps = 10**Cps\n",
    "ipplot = np.zeros_like(Cps)\n",
    "vrplot = np.zeros_like(Cps)\n",
    "for i,cp in enumerate(Cps):\n",
    "    vrplot[i] = Vripple(4.5,10,cp,0.8,60)\n",
    "    ipplot[i] = Ipeak(4.5,10,cp,0.8,60)\n",
    "    "
   ]
  },
  {
   "cell_type": "code",
   "execution_count": 6,
   "id": "178a15a4-6ce7-49be-8be9-2b5a1d4ac1fb",
   "metadata": {},
   "outputs": [
    {
     "data": {
      "image/png": "[encoded data removed]",
      "text/plain": [
       "<Figure size 432x288 with 1 Axes>"
      ]
     },
     "metadata": {
      "needs_background": "light"
     },
     "output_type": "display_data"
    }
   ],
   "source": [
    "plt.figure()\n",
    "plt.plot(Cps, vrplot, color='b', linewidth=2.5)\n",
    "plt.xlabel('C1 (F)', fontsize=18)\n",
    "plt.ylabel('Vripple (V)', fontsize=18)\n",
    "\n",
    "ax = plt.gca()\n",
    "\n",
    "ax.set_xscale('log')\n",
    "\n",
    "for tick in ax.xaxis.get_major_ticks():\n",
    "    tick.label1.set_fontsize(14)\n",
    "for tick in ax.yaxis.get_major_ticks():\n",
    "    tick.label1.set_fontsize(14)\n"
   ]
  },
  {
   "cell_type": "code",
   "execution_count": 7,
   "id": "cd5d37a9-68a2-40e7-acf0-4ad530fb9ae5",
   "metadata": {},
   "outputs": [
    {
     "data": {
      "image/png": "[encoded data removed]",
      "text/plain": [
       "<Figure size 432x288 with 1 Axes>"
      ]
     },
     "metadata": {
      "needs_background": "light"
     },
     "output_type": "display_data"
    }
   ],
   "source": [
    "plt.figure()\n",
    "plt.plot(Cps, ipplot, color='b', linewidth=2.5)\n",
    "plt.xlabel('C1 (F)', fontsize=18)\n",
    "plt.ylabel('Ipeak (A)', fontsize=18)\n",
    "\n",
    "ax = plt.gca()\n",
    "\n",
    "ax.set_xscale('log')\n",
    "\n",
    "for tick in ax.xaxis.get_major_ticks():\n",
    "    tick.label1.set_fontsize(14)\n",
    "for tick in ax.yaxis.get_major_ticks():\n",
    "    tick.label1.set_fontsize(14)\n"
   ]
  },
  {
   "cell_type": "markdown",
   "id": "1298c549-f2e8-430e-aff7-b1574ddcbbf8",
   "metadata": {},
   "source": [
    "## Homework Problems"
   ]
  },
  {
   "cell_type": "markdown",
   "id": "d82d313b-9a7c-448d-9892-97c48d32ba4a",
   "metadata": {},
   "source": [
    "#### Problem 3.36\n",
    "\n",
    "We just plug the values into our equation for the ripple of a half-wave rectifier:"
   ]
  },
  {
   "cell_type": "code",
   "execution_count": 8,
   "id": "a064a4ba-cf5b-4bf6-ac58-22943ce2597d",
   "metadata": {},
   "outputs": [
    {
     "name": "stdout",
     "output_type": "stream",
     "text": [
      "Ripple (V): 0.45\n"
     ]
    }
   ],
   "source": [
    "print(\"Ripple (V):\",Vripple(3.5,100,0.001,0.8,60))"
   ]
  },
  {
   "cell_type": "markdown",
   "id": "cbefd60f-6224-4923-a085-70be730a6b5d",
   "metadata": {},
   "source": [
    "#### Problem 3.37\n",
    "\n",
    "Here we need to solve for the capacitance in terms of the voltage ripple.  Re-arranging the half-wave ripple equations gives:"
   ]
  },
  {
   "cell_type": "code",
   "execution_count": 9,
   "id": "3ca3ad7b-1284-4795-a44e-378a0a234ef8",
   "metadata": {},
   "outputs": [],
   "source": [
    "def Csmooth(Vp,RL,Vripple,Vdon,f): return (Vp - Vdon)/(RL*Vripple*f)"
   ]
  },
  {
   "cell_type": "code",
   "execution_count": 10,
   "id": "eca5a537-32cd-4c7d-9beb-7068b9f37a7a",
   "metadata": {},
   "outputs": [
    {
     "name": "stdout",
     "output_type": "stream",
     "text": [
      "Capacitance required (F): 2.78E-02\n"
     ]
    }
   ],
   "source": [
    "print(\"Capacitance required (F):\",format(Csmooth(3.0,3.0/0.5,0.3,0.0,60),'.2E'))"
   ]
  },
  {
   "cell_type": "markdown",
   "id": "abbd947c-790c-48a8-998c-20b279e041ef",
   "metadata": {},
   "source": [
    "#### Problem 3.38\n",
    "\n",
    "The circuit will fail - during the positive cycle, both paths are blocked so no current will flow, but during the negative cycle there will be a short circuit through D3 and D1, likely destroying the diodes."
   ]
  },
  {
   "cell_type": "markdown",
   "id": "a7d02351-01a7-4763-a913-84ac9daf2e9b",
   "metadata": {},
   "source": [
    "#### Problem 3.41\n",
    "\n",
    "For the full-wave rectifier, we use the ripple equation which doubles the frequency and also doubles the number of diode voltage drops."
   ]
  },
  {
   "cell_type": "code",
   "execution_count": 11,
   "id": "76c88329-cc3e-4bb1-a86e-e5d0556484a9",
   "metadata": {},
   "outputs": [
    {
     "name": "stdout",
     "output_type": "stream",
     "text": [
      "Ripple (V): 3.89E-01\n"
     ]
    }
   ],
   "source": [
    "# full-wave rectifier ripple equation - 2 VDon drop and 2* frequency\n",
    "def Vfull_ripple(Vp,RL,C1,Vdon,f): return (Vp - 2*Vdon)/(RL*C1*2*f)\n",
    "\n",
    "print(\"Ripple (V):\",format(Vfull_ripple(3.0,30,0.001,0.8,60),'.2E'))"
   ]
  },
  {
   "cell_type": "markdown",
   "id": "c9a0f25c-24b5-4a8a-a0b7-5191ef6c95bf",
   "metadata": {},
   "source": [
    "#### Problem 3.44 \n",
    "\n",
    "For this problem we will use the equation for the ripple in terms of the load current.\n",
    "\n",
    "a) The drop across the resistor is the output of the full-wave rectifier (Vp-2Vdon) minus the voltage at the load, which is 3Vdon. The load current is then (Vp - 2Vdon - 3Vdon)/R1.\n",
    "\n",
    "Note that the answers in the publisher's answer guide don't include the 3Vdon, which is incorrect."
   ]
  },
  {
   "cell_type": "code",
   "execution_count": 12,
   "id": "c248a73b-f3b0-45f9-9250-5aa74e1305f5",
   "metadata": {},
   "outputs": [
    {
     "name": "stdout",
     "output_type": "stream",
     "text": [
      "Ripple (V): 8.33E-02\n"
     ]
    }
   ],
   "source": [
    "# full-wave rectifier ripple, in terms of load current\n",
    "def Vfull_ripple_iload(Iload,C1,f): return Iload/(C1*2*f)\n",
    "\n",
    "iload = ((5.0 - 2*0.8) - 3*0.8)/1000\n",
    "print(\"Ripple (V):\",format(Vfull_ripple_iload(iload,0.0001,60),'.2E'))"
   ]
  },
  {
   "cell_type": "markdown",
   "id": "d8cfc259-ca6d-46ee-adad-465cb8ea6ff7",
   "metadata": {},
   "source": [
    "b) This ripple at the capacitor is divided by the resistor divider of R1 and the small signal resistance of the 3 diodes, 3\\*rdon."
   ]
  },
  {
   "cell_type": "code",
   "execution_count": 13,
   "id": "7ffe52b5-5fd2-430e-a2d5-a8353fe1833f",
   "metadata": {},
   "outputs": [
    {
     "name": "stdout",
     "output_type": "stream",
     "text": [
      "Ripple at load (V): 6.03E-03\n"
     ]
    }
   ],
   "source": [
    "rdon = 0.026/iload\n",
    "rdon_all = 3*rdon\n",
    "load_ripple = Vfull_ripple_iload(iload,0.0001,60)*(rdon_all/(1000+rdon_all))\n",
    "print(\"Ripple at load (V):\",format(load_ripple,'.2E'))"
   ]
  },
  {
   "cell_type": "markdown",
   "id": "8eabcdd8-65c9-45ff-a072-2cae9b6e93d9",
   "metadata": {},
   "source": [
    "#### Problem 3.45\n",
    "\n",
    "The current limit is set by the resistor.  We will check both cases (positive and negative limiting), and choose the larger resistor.\n",
    "\n",
    "The battery voltages must be Vb1 = 2.2-Vdon = 1.4V, and Vb2 = -1.9+Vdon = -1.1V"
   ]
  },
  {
   "cell_type": "code",
   "execution_count": 14,
   "id": "9ac3c382-b46f-4f19-bad2-5e24ad44464f",
   "metadata": {},
   "outputs": [
    {
     "name": "stdout",
     "output_type": "stream",
     "text": [
      "Resistor for 2ma limit due to positive threshold (ohms): 1.40E+03\n",
      "Resistor for 2ma limit due to negative threshold (ohms): 1.55E+03\n"
     ]
    }
   ],
   "source": [
    "R_pos_limit = (5 - 2.2)/0.002\n",
    "R_neg_limit = (5 - 1.9)/0.002\n",
    "print(\"Resistor for 2ma limit due to positive threshold (ohms):\", format(R_pos_limit,'.2E'))\n",
    "print(\"Resistor for 2ma limit due to negative threshold (ohms):\", format(R_neg_limit,'.2E'))\n"
   ]
  },
  {
   "cell_type": "code",
   "execution_count": null,
   "id": "959d2053-c2be-49e2-b82b-d793628ce39e",
   "metadata": {},
   "outputs": [],
   "source": []
  }
 ],
 "metadata": {
  "kernelspec": {
   "display_name": "Python 3 (ipykernel)",
   "language": "python",
   "name": "python3"
  },
  "language_info": {
   "codemirror_mode": {
    "name": "ipython",
    "version": 3
   },
   "file_extension": ".py",
   "mimetype": "text/x-python",
   "name": "python",
   "nbconvert_exporter": "python",
   "pygments_lexer": "ipython3",
   "version": "3.7.3"
  }
 },
 "nbformat": 4,
 "nbformat_minor": 5
}
