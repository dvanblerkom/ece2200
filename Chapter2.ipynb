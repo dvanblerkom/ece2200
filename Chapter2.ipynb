{
 "cells": [
  {
   "cell_type": "markdown",
   "id": "ed1ed9f7-57e7-495b-bba9-03053529449b",
   "metadata": {},
   "source": [
    "Intrinsic carrier concentration in Silicon\n",
    "\n",
    "$n_i=5.2x10^{15}T^{3/2}exp({\\frac{-E_g}{2kT}}) $"
   ]
  },
  {
   "cell_type": "code",
   "execution_count": null,
   "id": "b3c797f5-0608-4d63-b4f3-0f4f3f00c36a",
   "metadata": {},
   "outputs": [],
   "source": []
  }
 ],
 "metadata": {
  "kernelspec": {
   "display_name": "Python 3 (ipykernel)",
   "language": "python",
   "name": "python3"
  },
  "language_info": {
   "codemirror_mode": {
    "name": "ipython",
    "version": 3
   },
   "file_extension": ".py",
   "mimetype": "text/x-python",
   "name": "python",
   "nbconvert_exporter": "python",
   "pygments_lexer": "ipython3",
   "version": "3.7.12"
  }
 },
 "nbformat": 4,
 "nbformat_minor": 5
}
