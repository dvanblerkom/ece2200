{
 "cells": [
  {
   "cell_type": "markdown",
   "id": "ed1ed9f7-57e7-495b-bba9-03053529449b",
   "metadata": {},
   "source": [
    "# ECE 2200 - Chapter 2 notebook\n",
    "Copyright (C) 2022 Daniel Van Blerkom"
   ]
  },
  {
   "cell_type": "code",
   "execution_count": 1,
   "id": "30557c87-a2df-489c-84b7-4c32767fb039",
   "metadata": {},
   "outputs": [],
   "source": [
    "import math\n",
    "import numpy as np\n",
    "%matplotlib inline\n",
    "import matplotlib.pyplot as plt\n"
   ]
  },
  {
   "cell_type": "markdown",
   "id": "6176369d-585e-4176-87b1-03629dbd7808",
   "metadata": {},
   "source": [
    "## Important Constants\n",
    "\n",
    "Boltzmann constant $k=1.38x10^{-23}$ J/K <br>\n",
    "Electron charge $q=1.6x10^{-19}$ C <br>\n",
    "Dielectric constant of vacuum $\\epsilon_{0}=8.85x10^{-14}$ $F/cm^2$\n",
    "\n",
    "Silicon Characteristics\n",
    "\n",
    "Silicon energy bandgap $E_g=1.12$ eV <br>\n",
    "Electron mobility in silicon $\\mu_n=1350$ $cm^2/(V*s)$ <br>\n",
    "Hole mobility in silicon $\\mu_p=480$ $cm^2/(V*s)$ <br>\n",
    "Electron diffusion constant in silicon $D_n=34$ $cm^2/s$ <br>\n",
    "Hole diffusion constant in silicon $D_p=12$ $cm^2/s$ <br>\n",
    "\n",
    "\n",
    "Dielectric constant in silicon $\\epsilon_{Si}=11.7 \\epsilon_{0}$ $F/cm^2$"
   ]
  },
  {
   "cell_type": "code",
   "execution_count": 2,
   "id": "67344b12-ae52-4e72-a8b2-d5ee0035298a",
   "metadata": {},
   "outputs": [],
   "source": [
    "q = 1.6E-19 #C, or J/eV\n",
    "k = 1.38E-23 #J/K\n",
    "eps_0 = 8.85E-14 #F/cm\n",
    "\n",
    "Eg = 1.12*q #in J\n",
    "mu_n = 1350 #cm^2/(V s)\n",
    "mu_p = 480 #cm^2/(V s)\n",
    "D_n = 34 #cm^2/sec\n",
    "D_p = 12 #cm^2/sec\n",
    "\n",
    "eps_si = 11.7*eps_0 #F/cm"
   ]
  },
  {
   "cell_type": "markdown",
   "id": "eeb95c95-addc-4fc2-b9ed-7c231cb35828",
   "metadata": {
    "tags": []
   },
   "source": [
    "### First, let's look at the electron carrier concentration in undoped Silicon:\n",
    "\n",
    "Intrinsic carrier concentration in Silicon\n",
    "\n",
    "$n_i=5.2x10^{15}T^{3/2}exp({\\frac{-E_g}{2kT}}) $"
   ]
  },
  {
   "cell_type": "code",
   "execution_count": 3,
   "id": "fe9fc345-0e63-4d7a-a230-a13eb9dbfca3",
   "metadata": {},
   "outputs": [],
   "source": [
    "def n_i(Temp): return 5.2E15*math.pow(Temp,(3/2))*math.exp(-Eg/(2*k*Temp))"
   ]
  },
  {
   "cell_type": "markdown",
   "id": "5496e5c5-2786-4086-82ed-b3d7406ad666",
   "metadata": {},
   "source": [
    "#### Plot the carrier concentration from 250K to 350K (i.e. -23C to 77C)"
   ]
  },
  {
   "cell_type": "code",
   "execution_count": 4,
   "id": "bf99b09e-b7eb-4666-8df8-26d1fceed930",
   "metadata": {},
   "outputs": [],
   "source": [
    "Temps = np.arange(250.0,350.0,10.0)\n",
    "niplot = np.zeros_like(Temps)\n",
    "for i,Temp in enumerate(Temps):\n",
    "    niplot[i] = n_i(Temp)"
   ]
  },
  {
   "cell_type": "code",
   "execution_count": 5,
   "id": "54a52b24-5669-4035-98b2-386cad8f65a2",
   "metadata": {},
   "outputs": [
    {
     "data": {
      "image/png": "[encoded data removed]",
      "text/plain": [
       "<Figure size 432x288 with 1 Axes>"
      ]
     },
     "metadata": {
      "needs_background": "light"
     },
     "output_type": "display_data"
    }
   ],
   "source": [
    "plt.figure()\n",
    "plt.plot(Temps, niplot, color='b', linewidth=2.5)\n",
    "plt.xlabel('Temperature (K)', fontsize=18)\n",
    "plt.ylabel('Intrinsic carrier concentration', fontsize=18)\n",
    "\n",
    "ax = plt.gca()\n",
    "\n",
    "ax.set_yscale('log')\n",
    "\n",
    "for tick in ax.xaxis.get_major_ticks():\n",
    "    tick.label1.set_fontsize(14)\n",
    "for tick in ax.yaxis.get_major_ticks():\n",
    "    tick.label1.set_fontsize(14)\n"
   ]
  },
  {
   "cell_type": "markdown",
   "id": "da5893d7-2f5c-4fd7-839f-40956fc7dfb8",
   "metadata": {},
   "source": [
    "Notice the intrinsic carrier concentration varies by orders of magnitude over 100C."
   ]
  },
  {
   "cell_type": "markdown",
   "id": "a60dfa32-7b1f-447b-bce0-857fecdd80d8",
   "metadata": {},
   "source": [
    "### Using the mobility, we can determine the resistivity of Silicon with different free charge carrier levels\n",
    "\n",
    "The current density for Silicon with a free electron density of $n$, under an electric field of $E$, is:\n",
    "\n",
    "$J_n=\\mu_n E \\cdot{} n \\cdot{} q$\n",
    "\n",
    "Remember that $R = \\frac{V}{I}$, $E = \\frac{V}{L}$, and $J = \\frac{I}{\\sigma}$, where $\\sigma$ is the cross-sectional area.\n",
    "\n",
    "Resistivity $\\rho$ is resistance times area divided by length, giving $\\rho = \\frac{R \\cdot{} \\sigma}{L} = \\frac{V \\cdot{} \\sigma}{I \\cdot{} L} $.\n",
    "\n",
    "Substituting, we can write $\\rho = \\frac{E}{J_n} = \\frac{1}{\\mu_n \\cdot{} n \\cdot{} q}$\n"
   ]
  },
  {
   "cell_type": "markdown",
   "id": "a7185f24-e1f9-4c75-bfcf-30c2434204d3",
   "metadata": {},
   "source": [
    "Accounting for the holes as well as the electrons:\n",
    "\n",
    "$J=\\mu_n E \\cdot{} n \\cdot{} q + \\mu_p E \\cdot{} p \\cdot{} q$\n",
    "\n",
    "Note that the current densities add - because the oppositely charged carriers move in opposite directions under the electric field; i.e. they both contribute to the total net current.  This is different than what happens with diffusion, as we will see later.\n",
    "\n",
    "Using both holes and electron free carrier density, we can write $\\rho = \\frac{1}{\\mu_n \\cdot{} n \\cdot{} q + \\mu_p \\cdot{} p \\cdot{} q}$\n",
    "\n",
    "However, in most doped situations either the electron or hole density will dominate the resistivity."
   ]
  },
  {
   "cell_type": "code",
   "execution_count": 6,
   "id": "99365be3-0598-4d59-bd2f-c3feb2be9fab",
   "metadata": {},
   "outputs": [],
   "source": [
    "def rho_n(n): return 1/(mu_n*n*q)\n",
    "def rho_p(p): return 1/(mu_p*p*q)\n",
    "def rho(n,p): return 1/(mu_p*p*q + mu_n*n*q)\n"
   ]
  },
  {
   "cell_type": "markdown",
   "id": "031a5b62-5257-4a34-869b-4ba131f92352",
   "metadata": {},
   "source": [
    "What's the resistivity of intrinsic silicon?  Remember $np = n_i^2$, so for intrinsic silicon $n = p = n_i$"
   ]
  },
  {
   "cell_type": "code",
   "execution_count": 7,
   "id": "c15daad6-2c1f-4750-878e-38b10eb7c559",
   "metadata": {},
   "outputs": [
    {
     "data": {
      "text/plain": [
       "316932.8613622433"
      ]
     },
     "execution_count": 7,
     "metadata": {},
     "output_type": "execute_result"
    }
   ],
   "source": [
    "rho(n_i(300),n_i(300))"
   ]
  },
  {
   "cell_type": "markdown",
   "id": "f7d5dfef-0fe4-44b7-91d3-37c8ac812807",
   "metadata": {},
   "source": [
    "It's high - pure silicon is not a good conductor at room temperature (hence the \"semi-\")"
   ]
  },
  {
   "cell_type": "markdown",
   "id": "ec5e517d-1562-488e-962f-d9f00846c109",
   "metadata": {},
   "source": [
    "### Diffusion current"
   ]
  },
  {
   "cell_type": "markdown",
   "id": "2bcc6791-e351-40b6-9e53-0a9593551dd3",
   "metadata": {},
   "source": [
    "### The diffusion current depends on the concentration gradient of the free carriers\n",
    "\n",
    "The diffusion current density for Silicon with a free electron density of $n$ is:\n",
    "\n",
    "$J_n=D_n  \\frac{dn}{dx} \\cdot{} q$\n",
    "\n",
    "For holes:\n",
    "\n",
    "$J_p=-D_p  \\frac{dp}{dx} \\cdot{} q$\n",
    "\n",
    "And total current:\n",
    "\n",
    "$J=q (D_n  \\frac{dn}{dx} - D_p \\frac{dp}{dx} )$\n",
    "\n"
   ]
  },
  {
   "cell_type": "markdown",
   "id": "f5778339-81da-41cf-acf6-7226134f87c0",
   "metadata": {},
   "source": [
    "___\n",
    "\n",
    "## Answers to Homework #1\n",
    "\n",
    "Problems 2.2, 2.3, 2.5, 2.6, 2.7"
   ]
  },
  {
   "cell_type": "code",
   "execution_count": 8,
   "id": "a13b918c-94fc-4995-9053-a083349501c2",
   "metadata": {},
   "outputs": [
    {
     "name": "stdout",
     "output_type": "stream",
     "text": [
      "Electron velocity in cm/s: 1.35E+06\n",
      "Hole velocity in cm/s: -4.80E+05\n",
      "Doping for 1 mA/um^2 in cm^-3: 4.63E+17\n"
     ]
    }
   ],
   "source": [
    "# Problem 2.2\n",
    "# velociy = mu * E (ignoring saturation)\n",
    "\n",
    "Efld = 0.1 / 1E-4 # V/um coverted to V/cm\n",
    "velec = mu_n * Efld # in cm/s\n",
    "vhole = -mu_p * Efld # in cm/s\n",
    "print(\"Electron velocity in cm/s:\",format(velec,'.2E'))\n",
    "print(\"Hole velocity in cm/s:\",format(vhole,'.2E'))\n",
    "\n",
    "# doping for J = 1 mA/um^2\n",
    "# solve for the majority carrier concentration, given J:  n = J / (mu_n E q)\n",
    "# remember that the majority carrier concentration = the doping density, i.e.  n = Nd\n",
    "\n",
    "Nd = (1E-3/(1E-4*1E-4)) / (mu_n * Efld * q) # in cm^-3\n",
    "print(\"Doping for 1 mA/um^2 in cm^-3:\",format(Nd,'.2E'))\n"
   ]
  },
  {
   "cell_type": "code",
   "execution_count": 9,
   "id": "ec3ec271-e60a-4835-957b-ac1a591bfcd8",
   "metadata": {},
   "outputs": [
    {
     "name": "stdout",
     "output_type": "stream",
     "text": [
      "Total current in A: 5.40E-05\n",
      "Total current in A: 5.400000002646382e-05\n"
     ]
    }
   ],
   "source": [
    "# Problem 2.3\n",
    "\n",
    "Area = 0.05E-4*0.05E-4 # cm^2\n",
    "Length = 0.1E-4 # cm\n",
    "Vdrop = 1 # V\n",
    "Nd = 1E17 # cm^-3\n",
    "Efld = Vdrop / Length # in V/cm\n",
    "\n",
    "Jtot = q*mu_n*Efld*Nd # in A/cm^2\n",
    "Itot = Jtot * Area  # in A\n",
    "\n",
    "print(\"Total current in A:\", format(Itot,'.2E'))\n",
    "\n",
    "# at 400K - intrinsic carrier density will be larger, hole density might be significant, lets include it...\n",
    "\n",
    "Jtot = q*(mu_n*Efld*Nd + mu_p*Efld*(math.pow(n_i(400),2)/Nd))\n",
    "Itot = Jtot * Area\n",
    "\n",
    "print(\"Total current in A:\", Itot)\n"
   ]
  },
  {
   "cell_type": "code",
   "execution_count": 10,
   "id": "4bc80e25-434f-49e4-bce6-a901b560596e",
   "metadata": {},
   "outputs": [
    {
     "name": "stdout",
     "output_type": "stream",
     "text": [
      "Total current for 1umx1um cross section, in A: -1.55E-05\n"
     ]
    }
   ],
   "source": [
    "# Problem 2.5\n",
    "\n",
    "Area = 1E-4*1E-4 # 1um^2 converted to cm^2\n",
    "dndx = -5E16/2E-4 # cm^4\n",
    "dpdx = 2E16/2E-4 # cm^4\n",
    "Jtot = q*(D_n * dndx - D_p * dpdx)\n",
    "Itot = Jtot * Area\n",
    "\n",
    "print(\"Total current for 1umx1um cross section, in A:\", format(Itot,'.2E'))"
   ]
  },
  {
   "cell_type": "markdown",
   "id": "58f4418c-d614-4e7d-b507-215d417c541d",
   "metadata": {},
   "source": [
    "Problem 2.6\n",
    "\n",
    "$Q_{stored} = q A \\int_0^L n(x) dx = \\frac{q A N L}{2}$\n",
    "\n",
    "Problem 2.7\n",
    "\n",
    "$Q_{stored} = q A \\int_0^\\infty n(x) dx = q A N \\int_0^\\infty e^{\\frac{-x}{L_d}} dx = q A N L_d$\n",
    "\n",
    "\n"
   ]
  },
  {
   "cell_type": "markdown",
   "id": "e45a06e6-bc66-47fe-80cc-ac86ecc8814f",
   "metadata": {},
   "source": [
    "___"
   ]
  },
  {
   "cell_type": "markdown",
   "id": "5351e5ca-7c40-4332-bb51-e7070d7cf3ee",
   "metadata": {},
   "source": [
    "### Now let's look at the built-in potential\n",
    "\n",
    "Built-in potential is found by equating the drift and diffusion currents so that the cancel out in equilibrium.\n",
    "\n",
    "$V_0=\\frac{kT}{q} ln(\\frac{N_A N_D}{n_i^2})$"
   ]
  },
  {
   "cell_type": "code",
   "execution_count": 11,
   "id": "c05281b8-451c-4ea4-b369-158a79149ea8",
   "metadata": {},
   "outputs": [],
   "source": [
    "def V_0(Na,Nd,Temp): return (k*Temp/q)*math.log(Na*Nd/math.pow(n_i(Temp),2))"
   ]
  },
  {
   "cell_type": "markdown",
   "id": "e2d5decf-f9e4-48eb-822e-11faf07f0e27",
   "metadata": {},
   "source": [
    "#### Plot the change in the built-in potential across different Nd doping levels (keep Na at 2x10^16)"
   ]
  },
  {
   "cell_type": "code",
   "execution_count": 12,
   "id": "0a9911d6-83be-4ddd-bd40-bbe8a5d77922",
   "metadata": {},
   "outputs": [],
   "source": [
    "Nds = np.arange(14.0,18.0,0.1)\n",
    "Nds = 10**Nds\n",
    "v0plot = np.zeros_like(Nds)\n",
    "for i,Nd in enumerate(Nds):\n",
    "    v0plot[i] = V_0(2E16,Nd,300)"
   ]
  },
  {
   "cell_type": "code",
   "execution_count": 13,
   "id": "607f31d5-9a6b-48d5-99dd-b966ff71bc68",
   "metadata": {
    "tags": []
   },
   "outputs": [
    {
     "data": {
      "image/png": "[encoded data removed]",
      "text/plain": [
       "<Figure size 432x288 with 1 Axes>"
      ]
     },
     "metadata": {
      "needs_background": "light"
     },
     "output_type": "display_data"
    }
   ],
   "source": [
    "plt.figure()\n",
    "plt.plot(Nds, v0plot, color='b', linewidth=2.5)\n",
    "plt.xlabel('Doping level (cm^-3)', fontsize=18)\n",
    "plt.ylabel('Built-in voltage', fontsize=18)\n",
    "\n",
    "ax = plt.gca()\n",
    "ax.set_xscale('log')\n",
    "\n",
    "for tick in ax.xaxis.get_major_ticks():\n",
    "    tick.label1.set_fontsize(14)\n",
    "for tick in ax.yaxis.get_major_ticks():\n",
    "    tick.label1.set_fontsize(14)\n"
   ]
  },
  {
   "cell_type": "markdown",
   "id": "f6fed6a6-a06b-41c0-b8cc-f3b708b22583",
   "metadata": {},
   "source": [
    "Notice how the built-in voltage doesn't change much when the doping level changes by orders of magnitude.\n",
    "\n",
    "In fact, the change is only 60mV per order of magnitude change at 300K, i.e. $V_t ln(10)$"
   ]
  },
  {
   "cell_type": "code",
   "execution_count": 14,
   "id": "16591c6c-e25d-412c-bc7e-0ef5038c32cc",
   "metadata": {
    "tags": []
   },
   "outputs": [
    {
     "data": {
      "text/plain": [
       "0.05957938928122086"
      ]
     },
     "execution_count": 14,
     "metadata": {},
     "output_type": "execute_result"
    }
   ],
   "source": [
    "# what's the change in voltage for an order of magnitude increase in Nd?\n",
    "\n",
    "V_0(2E17,2E16,300) - V_0(2E16,2E16,300)\n"
   ]
  },
  {
   "cell_type": "markdown",
   "id": "954b319b-79bf-49ce-a5dd-3f63e8d3092b",
   "metadata": {},
   "source": [
    "In reverse bias, the junction capacitance changes due to the depletion region width changing.\n",
    "\n",
    "The capacitance in equilibrium is give by:\n",
    "\n",
    "$C_{j0} = \\sqrt{\\frac{\\epsilon_{Si} q N_A N_D}{2 (N_A + N_D) V_0}}$\n",
    "\n",
    "Adn the capacitance under reverse bias $V_R$ is:\n",
    "\n",
    "$C_j = \\frac{C_{j0}}{\\sqrt{1-\\frac{V_R}{V_0}}}$"
   ]
  },
  {
   "cell_type": "code",
   "execution_count": 15,
   "id": "78a74b01-170f-4f2c-b62a-985587bce21a",
   "metadata": {},
   "outputs": [],
   "source": [
    "def Cj_0(Na,Nd,Temp): return math.sqrt(eps_si*q*Na*Nd/(2*(Na+Nd)*V_0(Na,Nd,Temp)))\n",
    "\n",
    "def Cj(Vr,Na,Nd,Temp): return Cj_0(Na,Nd,Temp)/math.sqrt(1.0-(Vr/V_0(Na,Nd,Temp)))"
   ]
  },
  {
   "cell_type": "code",
   "execution_count": 16,
   "id": "5ce8af55-47b6-4605-8f88-a471fb51b704",
   "metadata": {},
   "outputs": [
    {
     "data": {
      "text/plain": [
       "2.7522905513128887e-08"
      ]
     },
     "execution_count": 16,
     "metadata": {},
     "output_type": "execute_result"
    }
   ],
   "source": [
    "# equilibrium junction capacitance for Na=2E16 Nd=1E16 junction at 300C\n",
    "\n",
    "Cj_0(2E16,1E16,300)"
   ]
  },
  {
   "cell_type": "code",
   "execution_count": 17,
   "id": "49a713d2-1e90-470e-97af-5b625635c854",
   "metadata": {},
   "outputs": [
    {
     "data": {
      "text/plain": [
       "1.7871621229971028e-08"
      ]
     },
     "execution_count": 17,
     "metadata": {},
     "output_type": "execute_result"
    }
   ],
   "source": [
    "# junction capacitance at -1V (reverse bias) for Na=2E16 Nd=1E16 junction at 300C\n",
    "\n",
    "Cj(-1.0,2E16,1E16,300)"
   ]
  },
  {
   "cell_type": "code",
   "execution_count": 18,
   "id": "583f3895-cf9f-40f0-a410-96ef31b15448",
   "metadata": {},
   "outputs": [],
   "source": [
    "Vrs = np.arange(-3.0,0.0,0.1)\n",
    "cjplot = np.zeros_like(Vrs)\n",
    "for i,vr in enumerate(Vrs):\n",
    "    cjplot[i] = Cj(vr,2E16,9E15,300)"
   ]
  },
  {
   "cell_type": "code",
   "execution_count": 19,
   "id": "a9abcd3e-9731-4d6c-a95f-35c91ff772e1",
   "metadata": {},
   "outputs": [
    {
     "data": {
      "image/png": "[encoded data removed]",
      "text/plain": [
       "<Figure size 432x288 with 1 Axes>"
      ]
     },
     "metadata": {
      "needs_background": "light"
     },
     "output_type": "display_data"
    }
   ],
   "source": [
    "plt.figure()\n",
    "plt.plot(Vrs, cjplot, color='b', linewidth=2.5)\n",
    "plt.xlabel('Voltage (V)', fontsize=18)\n",
    "plt.ylabel('Capacitance (F/cm^2)', fontsize=18)\n",
    "\n",
    "for tick in ax.xaxis.get_major_ticks():\n",
    "    tick.label1.set_fontsize(14)\n",
    "for tick in ax.yaxis.get_major_ticks():\n",
    "    tick.label1.set_fontsize(14)\n"
   ]
  },
  {
   "cell_type": "markdown",
   "id": "7d0469f4-2d00-4304-b24c-cd392b25cfd3",
   "metadata": {},
   "source": [
    "That capacitance decreases with more negative reverse bias across the diode, as the depletion region gets wider.\n"
   ]
  },
  {
   "cell_type": "markdown",
   "id": "c7c5feeb-ed87-4732-989f-1d8e6390c22d",
   "metadata": {},
   "source": [
    "## Diode junction equation\n",
    "\n",
    "$I_D = I_S ( exp(\\frac{V_D}{V_T}) - 1 )$\n",
    "\n",
    "$I_S = A q n_i^2 (\\frac{D_n}{N_A L_n} + \\frac{D_p}{N_D L_p})$\n",
    "\n",
    "where $V_T = \\frac{kT}{q}$ and is approximately 25mV at 300K (room temperature), and $L_n$ and $L_p$ are the diffusion lengths for electrons and holes.\n",
    "\n",
    "In practice, the value of $I_S$ is given for a particular diode."
   ]
  },
  {
   "cell_type": "code",
   "execution_count": 20,
   "id": "7f27bb76-9096-45b0-a384-7d443997e9c6",
   "metadata": {},
   "outputs": [],
   "source": [
    "def I_D(Is,Vd,Temp): return Is*(math.exp(((Vd*q)/(k*Temp)))-1.0)\n",
    "\n",
    "def V_T(Temp): return k*Temp/q"
   ]
  },
  {
   "cell_type": "code",
   "execution_count": 21,
   "id": "dae036e2-e993-4e53-acad-169d9f580ba4",
   "metadata": {},
   "outputs": [],
   "source": [
    "Vds = np.arange(-3.0,0.8,0.05)\n",
    "idplot = np.zeros_like(Vds)\n",
    "for i,vd in enumerate(Vds):\n",
    "    idplot[i] = I_D(1E-14,vd,300)"
   ]
  },
  {
   "cell_type": "code",
   "execution_count": 22,
   "id": "567866cc-f1ad-4a78-bda1-92ee2e38d9e4",
   "metadata": {},
   "outputs": [
    {
     "data": {
      "image/png": "[encoded data removed]",
      "text/plain": [
       "<Figure size 432x288 with 1 Axes>"
      ]
     },
     "metadata": {
      "needs_background": "light"
     },
     "output_type": "display_data"
    }
   ],
   "source": [
    "plt.figure()\n",
    "plt.plot(Vds, idplot, color='b', linewidth=2.5)\n",
    "plt.xlabel('Voltage (V)', fontsize=18)\n",
    "plt.ylabel('Diode Current (A)', fontsize=18)\n",
    "\n",
    "for tick in ax.xaxis.get_major_ticks():\n",
    "    tick.label1.set_fontsize(14)\n",
    "for tick in ax.yaxis.get_major_ticks():\n",
    "    tick.label1.set_fontsize(14)\n"
   ]
  },
  {
   "cell_type": "markdown",
   "id": "4d26530b-4c53-4824-9548-d2456138978e",
   "metadata": {},
   "source": [
    "As the diode goes into forward bias, the current increases exponentially.\n",
    "\n",
    "Below we plot the absolute value on a log scale to see both the reverse and forward currents."
   ]
  },
  {
   "cell_type": "code",
   "execution_count": 23,
   "id": "bd7ddf48-033e-4862-b171-3197e347e310",
   "metadata": {},
   "outputs": [
    {
     "data": {
      "image/png": "[encoded data removed]",
      "text/plain": [
       "<Figure size 432x288 with 1 Axes>"
      ]
     },
     "metadata": {
      "needs_background": "light"
     },
     "output_type": "display_data"
    }
   ],
   "source": [
    "plt.figure()\n",
    "plt.plot(Vds, abs(idplot), color='b', linewidth=2.5)\n",
    "plt.xlabel('Voltage (V)', fontsize=18)\n",
    "plt.ylabel('Diode Current (A)', fontsize=18)\n",
    "\n",
    "ax = plt.gca()\n",
    "\n",
    "ax.set_yscale('log')\n",
    "\n",
    "for tick in ax.xaxis.get_major_ticks():\n",
    "    tick.label1.set_fontsize(14)\n",
    "for tick in ax.yaxis.get_major_ticks():\n",
    "    tick.label1.set_fontsize(14)\n"
   ]
  },
  {
   "cell_type": "markdown",
   "id": "3adfcdae-e067-42c1-800a-0822cbf73a6d",
   "metadata": {},
   "source": [
    "___\n",
    "\n",
    "## Homework #2\n",
    "\n",
    "2.10, 2.11, 2.12, 2.13, 2.16, 2.17, 2.22, 2.23, 2.24, 2.30"
   ]
  },
  {
   "cell_type": "markdown",
   "id": "40642a77-6a94-432a-9223-337a9fcc5e91",
   "metadata": {},
   "source": [
    "### Problem 2.10"
   ]
  },
  {
   "cell_type": "code",
   "execution_count": 24,
   "id": "a2617c3c-55cd-4cd9-83fb-abfbcc7d6697",
   "metadata": {},
   "outputs": [
    {
     "name": "stdout",
     "output_type": "stream",
     "text": [
      "Junction capacitance F/cm^2: 8.22E-09\n"
     ]
    }
   ],
   "source": [
    "# Problem 2.10a\n",
    "\n",
    "# Junction capacitance F/cm^2 for Nd=3E16 cm^-3 and Na=2E15 cm^-3 at -1.6V\n",
    "\n",
    "print(\"Junction capacitance F/cm^2:\",format(Cj(-1.6,3E16,2E15,300),'.2E'))"
   ]
  },
  {
   "cell_type": "markdown",
   "id": "de7fb125-8758-416e-a0d0-e399abebd8d5",
   "metadata": {},
   "source": [
    "Problem 2.10b  \n",
    "\n",
    "Solve for new value of Na that will double Cj0.\n",
    "\n",
    "$\\sqrt{\\frac{\\epsilon_{Si} q N'_A N_D}{2 (N'_A + N_D) V_0}} = 2 \\sqrt{\\frac{\\epsilon_{Si} q N_A N_D}{2 (N_A + N_D) V_0}}$\n",
    "\n",
    "$\\sqrt{\\frac{N'_A}{(N'_A + N_D)}} = 2 \\sqrt{\\frac{N_A}{(N_A + N_D)}}$\n",
    "\n",
    "$(N'_A)(N_A + N_D) = 4 (N_A)(N'_A + N_D)$\n",
    "\n",
    "$ N'_A = \\frac{4 N_A N_D}{N_D - 3 N_A} $\n",
    "\n"
   ]
  },
  {
   "cell_type": "code",
   "execution_count": 25,
   "id": "ed21120a-2343-4685-ba0e-1b9d70d90bc7",
   "metadata": {},
   "outputs": [
    {
     "name": "stdout",
     "output_type": "stream",
     "text": [
      "New Na doping required to double Cj0 in cm^-3: 1.00E+16\n",
      "Factor increase in Na: 5.0\n"
     ]
    }
   ],
   "source": [
    "Na_new = (4 * 2E15 * 3E16)/(3E16 - 3*2E15)\n",
    "\n",
    "print(\"New Na doping required to double Cj0 in cm^-3:\",format(Na_new,'.2E'))\n",
    "\n",
    "print(\"Factor increase in Na:\",Na_new/2E15)"
   ]
  },
  {
   "cell_type": "markdown",
   "id": "d5ca8487-c5ac-49ec-b3a6-73f6b854180a",
   "metadata": {},
   "source": [
    "This is the solution given by the book.  But note, this problem is not written very well.  If we want to double the junction capacitance at 1.6V reverse bias, we need to include the effect of the change in the built-in potential, not just Cj0.  This would make the solution much more difficult, since it would include the exponential term the defines the built-in potential.\n",
    "\n",
    "Is the junction capacitance actually doubled at -1.6V with this new value for Na?"
   ]
  },
  {
   "cell_type": "code",
   "execution_count": 26,
   "id": "4eec5cac-db7e-461d-808b-c787ba55e59b",
   "metadata": {},
   "outputs": [
    {
     "name": "stdout",
     "output_type": "stream",
     "text": [
      "Junction capacitance with new Na F/cm^2: 1.63E-08\n",
      "Ratio: 1.9821196858593981\n"
     ]
    }
   ],
   "source": [
    "print(\"Junction capacitance with new Na F/cm^2:\",format(Cj(-1.6,3E16,1E16,300),'.2E'))\n",
    "print(\"Ratio:\",Cj(-1.6,3E16,1E16,300)/Cj(-1.6,3E16,2E15,300))"
   ]
  },
  {
   "cell_type": "markdown",
   "id": "a46b03c8-dd89-46bb-b773-5bd8de57ca7b",
   "metadata": {},
   "source": [
    "So it is not exactly doubled, due to the change in the built-in potential.  Razavi gets a C on this problem..."
   ]
  },
  {
   "cell_type": "markdown",
   "id": "a3425fec-b09e-4af5-8a51-876211a16333",
   "metadata": {},
   "source": [
    "### Problem 2.11\n",
    "\n",
    "Undoped side of junction will have intrinsic carrier density n_i for both electrons & holes\n",
    "\n",
    "For clarity, let's use the version of the built-in potential equation that has the ratio of carrier densities:\n",
    "\n",
    "$V_0=\\frac{kT}{q} ln(\\frac{n_n}{n_p})$\n",
    "\n",
    "$n_n$ is simply $N_D$, since it is the majority carrier.\n",
    "\n",
    "$n_p$ is $n_i$, since this is the side that is un-doped, i.e. intrinsic.\n",
    "\n",
    "So, we get:\n",
    "\n",
    "$V_0=\\frac{kT}{q} ln(\\frac{N_D}{n_i})$\n"
   ]
  },
  {
   "cell_type": "code",
   "execution_count": 27,
   "id": "8708ae9d-0f47-464c-8f2c-756a29199ac7",
   "metadata": {},
   "outputs": [
    {
     "name": "stdout",
     "output_type": "stream",
     "text": [
      "Built-in potential with one side undoped in V: 3.84E-01\n"
     ]
    }
   ],
   "source": [
    "V0_undoped = (k*300/q)*math.log(3E16/n_i(300))\n",
    "\n",
    "print(\"Built-in potential with one side undoped in V:\",format(V0_undoped,'.2E'))\n"
   ]
  },
  {
   "cell_type": "markdown",
   "id": "b8442f40-04db-4285-8023-9728dcb01cd8",
   "metadata": {},
   "source": [
    "### Problem 2.12"
   ]
  },
  {
   "cell_type": "code",
   "execution_count": 28,
   "id": "dc464375-20dd-4964-87e3-b8ff7cd64ca4",
   "metadata": {},
   "outputs": [
    {
     "name": "stdout",
     "output_type": "stream",
     "text": [
      "Majority concentration on n side cm^-3: 5.00E+17\n",
      "Minority concentration on n side cm^-3: 2.32E+02\n",
      "Majority concentration on p side cm^-3: 4.00E+16\n",
      "Minority concentration on p side cm^-3: 2.90E+03\n",
      "Built in potential for 250K in V: 9.05E-01\n",
      "Built in potential for 300K in V: 8.48E-01\n",
      "Built in potential for 350K in V: 7.89E-01\n"
     ]
    }
   ],
   "source": [
    "# Probelm 2.12\n",
    "\n",
    "print(\"Majority concentration on n side cm^-3:\",format(5E17,'.2E'))\n",
    "print(\"Minority concentration on n side cm^-3:\",format(math.pow(n_i(300),2)/5E17,'.2E'))\n",
    "print(\"Majority concentration on p side cm^-3:\",format(4E16,'.2E'))\n",
    "print(\"Minority concentration on p side cm^-3:\",format(math.pow(n_i(300),2)/4E16,'.2E'))\n",
    "\n",
    "print(\"Built in potential for 250K in V:\",format(V_0(4E16,5E17,250),'.2E'))\n",
    "print(\"Built in potential for 300K in V:\",format(V_0(4E16,5E17,300),'.2E'))\n",
    "print(\"Built in potential for 350K in V:\",format(V_0(4E16,5E17,350),'.2E'))\n"
   ]
  },
  {
   "cell_type": "markdown",
   "id": "21060689-affb-47a5-9593-d78da0397254",
   "metadata": {},
   "source": [
    "The built-in potential decreases with temperature, because the intrinsic carrier concentration is increasing with temperature."
   ]
  },
  {
   "cell_type": "markdown",
   "id": "6cb50076-1a33-45ff-888c-6457b87f9a18",
   "metadata": {},
   "source": [
    "### Problem 2.13\n",
    "\n",
    "First we can solve for V_0, by cancelling out Cj0 by dividing the two data points for the junction capaciance:\n",
    "\n",
    "$C_{ja} = \\frac{C_{j0}}{\\sqrt{1-\\frac{-0.5V}{V_0}}} = 2.2 fF/um^2$\n",
    "\n",
    "$C_{jb} = \\frac{C_{j0}}{\\sqrt{1-\\frac{-1.5V}{V_0}}} = 1.3 fF/um^2$\n",
    "\n",
    "$\\frac{C_{ja}}{C_{jb}} = \\frac{\\sqrt{1-\\frac{-1.5V}{V_0}}}{\\sqrt{1-\\frac{-0.5V}{V_0}}} = \\frac{2.2}{1.3} $\n",
    "\n",
    "$V_0 + 1.5 = {(\\frac{2.2}{1.3})}^2 (V_0 + 0.5)$"
   ]
  },
  {
   "cell_type": "code",
   "execution_count": 29,
   "id": "60d920b3-3bd6-4e3d-a584-39a95e343adc",
   "metadata": {},
   "outputs": [
    {
     "name": "stdout",
     "output_type": "stream",
     "text": [
      "Built in potential in V: 3.65E-02\n"
     ]
    }
   ],
   "source": [
    "V0solve = (math.pow(2.2/1.3,2)*0.5 - 1.5)/(1.0 - math.pow(2.2/1.3,2))\n",
    "\n",
    "print(\"Built in potential in V:\", format(V0solve,'.2E'))"
   ]
  },
  {
   "cell_type": "markdown",
   "id": "5c3d6816-184b-4cdb-be35-452e96db8bea",
   "metadata": {},
   "source": [
    "(As we will see, this problem is broken!  0.0365V is way too small for a built-in potential for any reasonable amount of dopant.)\n",
    "\n",
    "Now solve for $C_{j0}$ by plugging in one of the given points:\n",
    "\n",
    "$C_{j0} = C_j \\sqrt{1-\\frac{V_R}{V_0}}$\n",
    "\n",
    "$C_{j0} = 2.2 \\sqrt{1-\\frac{-0.5 V}{V_0}}$\n"
   ]
  },
  {
   "cell_type": "code",
   "execution_count": 30,
   "id": "b14ef73e-a237-4506-9232-2b03e4fa377b",
   "metadata": {},
   "outputs": [
    {
     "name": "stdout",
     "output_type": "stream",
     "text": [
      "Cj0 in fF/um^2: 8.43E+00\n",
      "Cj0 in F/cm^2: 8.43E-07\n"
     ]
    }
   ],
   "source": [
    "Cj0solve = 2.2*math.sqrt(1+(0.5/V0solve))\n",
    "\n",
    "print(\"Cj0 in fF/um^2:\", format(Cj0solve,'.2E'))\n",
    "\n",
    "Cj0solve2 = Cj0solve * 1E-15 * 1E4 * 1E4 \n",
    "\n",
    "print(\"Cj0 in F/cm^2:\", format(Cj0solve2,'.2E'))\n"
   ]
  },
  {
   "cell_type": "markdown",
   "id": "aa6c2850-5a83-4914-9e4f-3176e44204b9",
   "metadata": {},
   "source": [
    "There is not a single solution for Na and Nd; given a value of Nd, we can try to find the value for Na (or vice-versa).\n",
    "\n",
    "First we re-arrange the equation for $C_{j0}$:\n",
    "\n",
    "$2 V_0 C_{j0}^2 (N_A + N_D) = \\epsilon_{Si} q N_A N_D$\n",
    "\n",
    "$\\frac{N_A N_D}{N_A + N_D} = \\frac{2 V_0 C_{j0}^2}{\\epsilon_{Si} q}$\n",
    "\n",
    "Solving for Na:\n",
    "\n",
    "$N_A = \\frac{2 V_0 C_{j0}^2 N_D}{ \\epsilon_{Si} q N_D - 2 V_0 C_{j0}^2}$\n",
    "\n"
   ]
  },
  {
   "cell_type": "markdown",
   "id": "391724a4-bc02-4471-919d-067eeb5af6fa",
   "metadata": {},
   "source": [
    "Let's try with Nd = 2E18 cm^3"
   ]
  },
  {
   "cell_type": "code",
   "execution_count": 31,
   "id": "01aaecd4-1f0e-4b6a-9c75-c75d58492277",
   "metadata": {},
   "outputs": [
    {
     "name": "stdout",
     "output_type": "stream",
     "text": [
      "Na given Nd=2E18 cm^-3 in cm^-3: 3.72E+17\n"
     ]
    }
   ],
   "source": [
    "Na_solve = (2*V0solve*math.pow(Cj0solve2,2)*2E18)/(eps_si*q*2E18 - 2*V0solve*math.pow(Cj0solve2,2))\n",
    "\n",
    "print(\"Na given Nd=2E18 cm^-3 in cm^-3:\", format(Na_solve,'.2E'))"
   ]
  },
  {
   "cell_type": "markdown",
   "id": "16d76a20-3cd1-46c7-b751-df85c965089f",
   "metadata": {},
   "source": [
    "#### BUT!!  what is the built-in potential in this case?\n"
   ]
  },
  {
   "cell_type": "code",
   "execution_count": 32,
   "id": "a9b0d57c-3d8f-465c-9fe2-f2ef56f45278",
   "metadata": {},
   "outputs": [
    {
     "name": "stdout",
     "output_type": "stream",
     "text": [
      "Built-in potential from solution in V: 9.42E-01\n"
     ]
    }
   ],
   "source": [
    "print(\"Built-in potential from solution in V:\",format(V_0(2E18,3.72E17,300),'.2E'))"
   ]
  },
  {
   "cell_type": "markdown",
   "id": "8bec2ee1-4647-4d8b-bac6-4ba7734c5971",
   "metadata": {},
   "source": [
    "Our combination of Na and Nd gives a very different built-in potential than that solved for above.  So this is not a solution - in fact, this problem does not have a solution, the values of Na and Nd need to be < n_i which violates our basic assumptions.  \n",
    "\n",
    "Razavi gets an F for this problem..."
   ]
  },
  {
   "cell_type": "markdown",
   "id": "c08e1c4f-8809-4509-8d09-00be967b232d",
   "metadata": {},
   "source": [
    "### Problem 2.16\n",
    "\n",
    "Solve $I_S = I_D exp(-V_D/V_T)$"
   ]
  },
  {
   "cell_type": "code",
   "execution_count": 33,
   "id": "9174e08e-b38d-4ca1-8980-b4d3545877db",
   "metadata": {},
   "outputs": [
    {
     "name": "stdout",
     "output_type": "stream",
     "text": [
      "Is value (A): 2.58E-16\n"
     ]
    }
   ],
   "source": [
    "# Problem 2.16a\n",
    "\n",
    "Is_solve = 0.001*math.exp(-1.0*0.75/V_T(300))\n",
    "\n",
    "print(\"Is value (A):\", format(Is_solve,'.2E'))"
   ]
  },
  {
   "cell_type": "code",
   "execution_count": 34,
   "id": "3e756c27-825d-4864-8d75-fa1638cc048c",
   "metadata": {},
   "outputs": [
    {
     "name": "stdout",
     "output_type": "stream",
     "text": [
      "Vd value for twice the area (V): 7.32E-01\n"
     ]
    }
   ],
   "source": [
    "# Problem 2.16b\n",
    "\n",
    "# Doubling the area results in Is doubling; so we need to solve for V_D using twice the Is solved above\n",
    "\n",
    "Vd_solve = V_T(300)*math.log(0.001/(2*Is_solve))\n",
    "\n",
    "print(\"Vd value for twice the area (V):\", format(Vd_solve,'.2E'))"
   ]
  },
  {
   "cell_type": "markdown",
   "id": "37a9e5ad-caf7-47a6-b4db-cb7ad96aa4b9",
   "metadata": {},
   "source": [
    "### Problem 2.17"
   ]
  },
  {
   "cell_type": "markdown",
   "id": "fa925a0b-6d93-4af0-b7b5-2f24a02d8815",
   "metadata": {},
   "source": [
    "$V_B = V_{D1} + V_{D2}$\n",
    "\n",
    "$V_B = V_T ( ln(\\frac{I_B}{I_{S1}}) + ln(\\frac{I_B}{I_{S2}}) ) = V_T ( ln(\\frac{I_B^2}{I_{S1} I_{S2}})$\n",
    "\n"
   ]
  },
  {
   "cell_type": "markdown",
   "id": "c19da1cf-d074-48a8-ae46-67e441af285a",
   "metadata": {},
   "source": [
    "Rearranging to solve for $I_B$:\n",
    "\n",
    "$I_B = \\sqrt{I_{S1} I_{S2}} exp(\\frac{V_B}{2V_T})$\n",
    "\n",
    "Plugging the above into $V_{D1} = V_T ln(I_B / I_{S1})$ gives:\n",
    "\n",
    "$V_{D1} = V_T ln( \\sqrt{\\frac{I_{S2}}{I_{S1}}} ) + V_B / 2$\n",
    "\n",
    "$V_{D2} = V_T ln( \\sqrt{\\frac{I_{S1}}{I_{S2}}} ) + V_B / 2$\n"
   ]
  },
  {
   "cell_type": "markdown",
   "id": "6fdad76a-f9e7-48b0-944e-0973abe058c7",
   "metadata": {},
   "source": [
    "### Problem 2.22"
   ]
  },
  {
   "cell_type": "markdown",
   "id": "96183355-468c-47d9-ab89-80b2307707fa",
   "metadata": {},
   "source": [
    "Setting the current through the resistor equal to the current through the diode\n",
    "\n",
    "$V_{R1}/R_1 = I_S (exp (V_{D1}/V_T) - 1)$\n",
    "\n",
    "and $V_{R1} = V_{D1} = V_X / 2$\n",
    "\n",
    "gives $\\frac{V_X}{2 R_1} = I_S (exp (V_{X}/(2 V_T)) - 1)$\n",
    "\n",
    "We can't solve this directly, but we can iterate to find the solution.\n",
    "\n",
    "First we write the value on the left half of the equation as\n",
    "\n",
    "$i_R(V_X) = \\frac{V_X}{2 R_1}$\n",
    "\n",
    "replacing this function on the left side of the equation, we then solve for $V_X$, giving:\n",
    "\n",
    "$V_X = 2 V_T ln (\\frac{i_R(V_X)}{I_S} + 1)$\n",
    "\n",
    "Then we interate by using step 1 and 2 below:\n",
    "\n",
    "1. We solve for $i_R(V_X)$ given a value for Vx from step 2 (or a guess to start).\n",
    "\n",
    "2. Then we will solve for Vx from the right half of the equation, using the value of the left half solved in step 1.\n",
    "\n",
    "We will continue to iterate until the Vx values converge to the answer."
   ]
  },
  {
   "cell_type": "code",
   "execution_count": 35,
   "id": "9d0ce896-dfda-4740-a50c-a190a0dcc49e",
   "metadata": {},
   "outputs": [],
   "source": [
    "def Ix1(Vx): return (Vx/2)/2000\n",
    "def Vx2(Ix): return 2*(V_T(300))*math.log((Ix/2E-16)+1)"
   ]
  },
  {
   "cell_type": "markdown",
   "id": "957a5bce-0727-4273-acf8-dfd8e875412b",
   "metadata": {},
   "source": [
    "First we will guess Vx=2V"
   ]
  },
  {
   "cell_type": "code",
   "execution_count": 36,
   "id": "b72df4ef-1451-474b-b878-49cb6f90f396",
   "metadata": {},
   "outputs": [
    {
     "data": {
      "text/plain": [
       "0.0005"
      ]
     },
     "execution_count": 36,
     "metadata": {},
     "output_type": "execute_result"
    }
   ],
   "source": [
    "Ix1(2)"
   ]
  },
  {
   "cell_type": "code",
   "execution_count": 37,
   "id": "544e151b-9997-469b-9258-9ed559770f22",
   "metadata": {},
   "outputs": [
    {
     "data": {
      "text/plain": [
       "1.4773233881238108"
      ]
     },
     "execution_count": 37,
     "metadata": {},
     "output_type": "execute_result"
    }
   ],
   "source": [
    "Vx2(Ix1(2))"
   ]
  },
  {
   "cell_type": "code",
   "execution_count": 38,
   "id": "8b3876c8-a866-42ac-aa48-4871fcd9220d",
   "metadata": {},
   "outputs": [
    {
     "data": {
      "text/plain": [
       "0.0003693308470309527"
      ]
     },
     "execution_count": 38,
     "metadata": {},
     "output_type": "execute_result"
    }
   ],
   "source": [
    "Ix1(Vx2(Ix1(2)))"
   ]
  },
  {
   "cell_type": "code",
   "execution_count": 39,
   "id": "0219cbbd-6ff5-465f-8c70-fc0090aa453c",
   "metadata": {},
   "outputs": [
    {
     "data": {
      "text/plain": [
       "1.4616475238498239"
      ]
     },
     "execution_count": 39,
     "metadata": {},
     "output_type": "execute_result"
    }
   ],
   "source": [
    "Vx2(Ix1(Vx2(Ix1(2))))"
   ]
  },
  {
   "cell_type": "code",
   "execution_count": 40,
   "id": "8802811f-48a2-4e75-9777-a87c78d85b57",
   "metadata": {},
   "outputs": [
    {
     "data": {
      "text/plain": [
       "0.000365411880962456"
      ]
     },
     "execution_count": 40,
     "metadata": {},
     "output_type": "execute_result"
    }
   ],
   "source": [
    "Ix1(Vx2(Ix1(Vx2(Ix1(2)))))"
   ]
  },
  {
   "cell_type": "code",
   "execution_count": 41,
   "id": "c9bdf926-975a-4346-b8bc-f86e06dbf288",
   "metadata": {},
   "outputs": [
    {
     "data": {
      "text/plain": [
       "1.4610954709758357"
      ]
     },
     "execution_count": 41,
     "metadata": {},
     "output_type": "execute_result"
    }
   ],
   "source": [
    "Vx2(Ix1(Vx2(Ix1(Vx2(Ix1(2))))))"
   ]
  },
  {
   "cell_type": "markdown",
   "id": "74579d65-1a69-4dbf-bf91-ceae5a722f7b",
   "metadata": {},
   "source": [
    "After three iterations, the value has converged to $V_X = 1.46V$"
   ]
  },
  {
   "cell_type": "markdown",
   "id": "6ee5fb9e-b9c8-4ad7-9a2d-b2cb0fd98b92",
   "metadata": {},
   "source": [
    "#### Here's another way to solve this problem, using graphing...\n",
    "\n",
    "We will simply plot the left-hand of the equation and the right hand of the equation, and find when they are equal to each other.\n"
   ]
  },
  {
   "cell_type": "code",
   "execution_count": 42,
   "id": "6a300f87-d11c-4f8f-9e14-fb9055c8ac8a",
   "metadata": {},
   "outputs": [],
   "source": [
    "def Id1(Vx): return 2E-16*(math.exp(Vx/(2*V_T(300)))-1)"
   ]
  },
  {
   "cell_type": "code",
   "execution_count": 43,
   "id": "5b5af5e2-a60d-4dec-91d5-1138441fad64",
   "metadata": {},
   "outputs": [],
   "source": [
    "Vxs = np.arange(1.2,1.6,0.05)\n",
    "ixplot = np.zeros_like(Vxs)\n",
    "idplot = np.zeros_like(Vxs)\n",
    "for i,vx in enumerate(Vxs):\n",
    "    ixplot[i] = Ix1(vx)\n",
    "    idplot[i] = Id1(vx)"
   ]
  },
  {
   "cell_type": "code",
   "execution_count": 44,
   "id": "05cecd8d-f028-4c16-bf34-a9d9419d7876",
   "metadata": {},
   "outputs": [
    {
     "data": {
      "image/png": "[encoded data removed]",
      "text/plain": [
       "<Figure size 432x288 with 1 Axes>"
      ]
     },
     "metadata": {
      "needs_background": "light"
     },
     "output_type": "display_data"
    }
   ],
   "source": [
    "plt.figure()\n",
    "plt.plot(Vxs, ixplot, color='b', linewidth=2.5)\n",
    "plt.plot(Vxs, idplot, color='r', linewidth=2.5)\n",
    "plt.xlabel('Voltage (V)', fontsize=18)\n",
    "plt.ylabel('Current (A)', fontsize=18)\n",
    "\n",
    "for tick in ax.xaxis.get_major_ticks():\n",
    "    tick.label1.set_fontsize(14)\n",
    "for tick in ax.yaxis.get_major_ticks():\n",
    "    tick.label1.set_fontsize(14)"
   ]
  },
  {
   "cell_type": "markdown",
   "id": "4a7d2fa9-4d9f-42f9-aba6-4ed6f82d849e",
   "metadata": {},
   "source": [
    "The crossing point is around 1.46V"
   ]
  },
  {
   "cell_type": "markdown",
   "id": "5ae2e625-e998-4bc3-9526-c87c7ee0c74b",
   "metadata": {},
   "source": [
    "### Problem 2.23"
   ]
  },
  {
   "cell_type": "markdown",
   "id": "b2fbb269-b43a-4ac5-8eba-e2c09e88e79d",
   "metadata": {},
   "source": [
    "Note that $V_D = V_X - R_1 I_X$\n",
    "\n",
    "So we can write, for the two data points given\n",
    "\n",
    "$V_{X1}-R_1 I_{X1} = V_T ln( I_{X1} / I_S )$\n",
    "\n",
    "$V_{X2}-R_1 I_{X2} = V_T ln( I_{X2} / I_S )$\n",
    "\n",
    "Subtracting these two equation and using the law of logarithms, we get\n",
    "\n",
    "$V_{X1}-V_{X2}-R_1 (I_{X1}-I_{X2}) = V_T ln ( I_{X1} / I_{X2} ) $\n",
    "\n",
    "or\n",
    "\n",
    "$R_1 = \\frac{V_{X1}-V_{X2}-V_T ln ( I_{X1} / I_{X2} ) }{I_{X1}-I_{X2}}$\n"
   ]
  },
  {
   "cell_type": "code",
   "execution_count": 45,
   "id": "6d029b32-8758-46be-88f9-c3397932d66b",
   "metadata": {},
   "outputs": [
    {
     "name": "stdout",
     "output_type": "stream",
     "text": [
      "Resistor value (ohms): 3.25E+03\n"
     ]
    }
   ],
   "source": [
    "R1_solve = (1.0 - 2.0 - V_T(300)*math.log(0.2E-3/0.5E-3))/(0.2E-3 - 0.5E-3)\n",
    "\n",
    "print(\"Resistor value (ohms):\", format(R1_solve,'.2E'))"
   ]
  },
  {
   "cell_type": "markdown",
   "id": "9d079a0b-ae1e-4454-83f2-e65d37fef576",
   "metadata": {},
   "source": [
    "now plug this resistor value into \n",
    "\n",
    "$I_S = I_{X1} exp( -(V_{X1}-R_1 I_{X1})/V_T)$"
   ]
  },
  {
   "cell_type": "code",
   "execution_count": 46,
   "id": "f4abbd67-0336-42ed-90a8-0b673b5b330e",
   "metadata": {},
   "outputs": [
    {
     "name": "stdout",
     "output_type": "stream",
     "text": [
      "Is value (in A): 2.76E-10\n"
     ]
    }
   ],
   "source": [
    "Is_solve = 0.2E-3*math.exp((R1_solve*0.2E-3 - 1.0)/V_T(300))\n",
    "\n",
    "print(\"Is value (in A):\", format(Is_solve,'.2E'))"
   ]
  },
  {
   "cell_type": "markdown",
   "id": "22dcbfee-f99a-4cbf-95ee-744c9c251202",
   "metadata": {},
   "source": [
    "### Problem 2.24"
   ]
  },
  {
   "cell_type": "markdown",
   "id": "5a83b7d0-5e21-4bca-994d-03745e64e8fc",
   "metadata": {},
   "source": [
    "The total current is the sum of the two currents:\n",
    "\n",
    "$I_X = I_R + I_D = I_R + I_S exp( I_R R_1 / V_T )$\n",
    "\n",
    "or\n",
    "\n",
    "$I_X - I_R = I_S exp( I_R R_1 / V_T )$\n",
    "\n",
    "We are stuck with an equation we can't solve directly, but we can use iteration again.\n",
    "\n"
   ]
  },
  {
   "cell_type": "code",
   "execution_count": 47,
   "id": "1256c449-5f5b-49db-8d97-3a80c3304f4a",
   "metadata": {},
   "outputs": [],
   "source": [
    "def Id1(Ir,Ix): return (Ix - Ir)\n",
    "def Ir2(Id1): return V_T(300)*math.log(Id1/3E-16)/1000"
   ]
  },
  {
   "cell_type": "code",
   "execution_count": 48,
   "id": "3b774bed-8294-4973-8fc2-4c5073385d9c",
   "metadata": {},
   "outputs": [
    {
     "data": {
      "text/plain": [
       "0.0007281702843895963"
      ]
     },
     "execution_count": 48,
     "metadata": {},
     "output_type": "execute_result"
    }
   ],
   "source": [
    "Ir2(Id1(0.5E-3,1E-3))"
   ]
  },
  {
   "cell_type": "code",
   "execution_count": 49,
   "id": "b486b3a1-d232-41f5-8209-a0106390128a",
   "metadata": {},
   "outputs": [
    {
     "data": {
      "text/plain": [
       "0.000712417428308331"
      ]
     },
     "execution_count": 49,
     "metadata": {},
     "output_type": "execute_result"
    }
   ],
   "source": [
    "Ir2(Id1(0.728E-3,1E-3))"
   ]
  },
  {
   "cell_type": "code",
   "execution_count": 50,
   "id": "d5ec307a-0198-4630-a7f6-47bae0b2c078",
   "metadata": {},
   "outputs": [
    {
     "data": {
      "text/plain": [
       "0.0007138964022664397"
      ]
     },
     "execution_count": 50,
     "metadata": {},
     "output_type": "execute_result"
    }
   ],
   "source": [
    "Ir2(Id1(0.712E-3,1E-3))"
   ]
  },
  {
   "cell_type": "code",
   "execution_count": 51,
   "id": "b8bf82ca-dfb5-47af-a6d9-7fef2908482b",
   "metadata": {},
   "outputs": [
    {
     "data": {
      "text/plain": [
       "0.0007137251335693727"
      ]
     },
     "execution_count": 51,
     "metadata": {},
     "output_type": "execute_result"
    }
   ],
   "source": [
    "Ir2(Id1(0.7139E-3,1E-3))"
   ]
  },
  {
   "cell_type": "code",
   "execution_count": 52,
   "id": "73332fc7-5ed8-4e40-9e8f-6b8d35919286",
   "metadata": {},
   "outputs": [
    {
     "name": "stdout",
     "output_type": "stream",
     "text": [
      "VD1 for 1mA : 0.7137432153311148\n"
     ]
    }
   ],
   "source": [
    "print(\"VD1 for 1mA :\",1000*Ir2(Id1(0.7137E-3,1E-3)))"
   ]
  },
  {
   "cell_type": "code",
   "execution_count": 53,
   "id": "0e9d6b1f-32b0-4e7f-b273-537be73010b3",
   "metadata": {},
   "outputs": [
    {
     "data": {
      "text/plain": [
       "0.0007526200133342379"
      ]
     },
     "execution_count": 53,
     "metadata": {},
     "output_type": "execute_result"
    }
   ],
   "source": [
    "Ir2(Id1(0.7137E-3,2E-3))"
   ]
  },
  {
   "cell_type": "code",
   "execution_count": 54,
   "id": "ac7fce1a-039f-442f-a38d-d1779785a960",
   "metadata": {},
   "outputs": [
    {
     "data": {
      "text/plain": [
       "0.0007518254310263032"
      ]
     },
     "execution_count": 54,
     "metadata": {},
     "output_type": "execute_result"
    }
   ],
   "source": [
    "Ir2(Id1(0.7526E-3,2E-3))"
   ]
  },
  {
   "cell_type": "code",
   "execution_count": 55,
   "id": "6eca37ca-4171-4a15-97f1-937982d39a92",
   "metadata": {},
   "outputs": [
    {
     "name": "stdout",
     "output_type": "stream",
     "text": [
      "VD1 for 2mA : 0.7518420202238582\n"
     ]
    }
   ],
   "source": [
    "print(\"VD1 for 2mA :\",1000*Ir2(Id1(0.7518E-3,2E-3)))"
   ]
  },
  {
   "cell_type": "code",
   "execution_count": 56,
   "id": "e98b94e9-bd61-43fa-9fab-01eb05672b44",
   "metadata": {},
   "outputs": [
    {
     "data": {
      "text/plain": [
       "0.0007765888309777076"
      ]
     },
     "execution_count": 56,
     "metadata": {},
     "output_type": "execute_result"
    }
   ],
   "source": [
    "Ir2(Id1(0.7518E-3,4E-3))"
   ]
  },
  {
   "cell_type": "code",
   "execution_count": 57,
   "id": "ef7a9f6b-78cc-4295-9965-2626ed683355",
   "metadata": {},
   "outputs": [
    {
     "data": {
      "text/plain": [
       "0.0007763905173794651"
      ]
     },
     "execution_count": 57,
     "metadata": {},
     "output_type": "execute_result"
    }
   ],
   "source": [
    "Ir2(Id1(0.7766E-3,4E-3))"
   ]
  },
  {
   "cell_type": "code",
   "execution_count": 58,
   "id": "a4e48e43-709b-4ba9-b1d2-e69aa6ecc19a",
   "metadata": {},
   "outputs": [
    {
     "name": "stdout",
     "output_type": "stream",
     "text": [
      "VD1 for 4mA : 0.776392122777325\n"
     ]
    }
   ],
   "source": [
    "print(\"VD1 for 4mA :\",1000*Ir2(Id1(0.7764E-3,4E-3)))"
   ]
  },
  {
   "cell_type": "code",
   "execution_count": null,
   "id": "a752483a-f5ac-4cba-96f6-511203d8931f",
   "metadata": {},
   "outputs": [],
   "source": []
  }
 ],
 "metadata": {
  "kernelspec": {
   "display_name": "Python 3 (ipykernel)",
   "language": "python",
   "name": "python3"
  },
  "language_info": {
   "codemirror_mode": {
    "name": "ipython",
    "version": 3
   },
   "file_extension": ".py",
   "mimetype": "text/x-python",
   "name": "python",
   "nbconvert_exporter": "python",
   "pygments_lexer": "ipython3",
   "version": "3.7.3"
  }
 },
 "nbformat": 4,
 "nbformat_minor": 5
}
