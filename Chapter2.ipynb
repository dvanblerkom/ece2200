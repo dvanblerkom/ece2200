{
 "cells": [
  {
   "cell_type": "markdown",
   "id": "ed1ed9f7-57e7-495b-bba9-03053529449b",
   "metadata": {},
   "source": [
    "# ECE 2200 - Chapter 2 notebook\n",
    "Copyright (C) 2022 Daniel Van Blerkom"
   ]
  },
  {
   "cell_type": "code",
   "execution_count": 1,
   "id": "30557c87-a2df-489c-84b7-4c32767fb039",
   "metadata": {},
   "outputs": [],
   "source": [
    "import math\n",
    "import numpy as np\n",
    "%matplotlib inline\n",
    "import matplotlib.pyplot as plt\n"
   ]
  },
  {
   "cell_type": "markdown",
   "id": "6176369d-585e-4176-87b1-03629dbd7808",
   "metadata": {},
   "source": [
    "## Important Constants\n",
    "\n",
    "Boltzmann constant $k=1.38x10^{-23}$ J/K <br>\n",
    "Electron charge $q=1.6x10^{-19}$ C <br>\n",
    "Dielectric constant of vacuum $\\epsilon_{0}=8.85x10^{-14}$ $F/cm^2$\n",
    "\n",
    "Silicon Characteristics\n",
    "\n",
    "Silicon energy bandgap $E_g=1.12$ eV <br>\n",
    "Electron mobility in silicon $\\mu_n=1350$ $cm^2/(V*s)$ <br>\n",
    "Hole mobility in silicon $\\mu_p=480$ $cm^2/(V*s)$ <br>\n",
    "Dielectric constant in silicon $\\epsilon_{Si}=11.7 \\epsilon_{0}$ $F/cm^2$"
   ]
  },
  {
   "cell_type": "code",
   "execution_count": 2,
   "id": "67344b12-ae52-4e72-a8b2-d5ee0035298a",
   "metadata": {},
   "outputs": [],
   "source": [
    "q = 1.6E-19 #C, or J/eV\n",
    "k = 1.38E-23 #J/K\n",
    "eps_0 = 8.85E-14 #F/cm\n",
    "\n",
    "Eg = 1.12*q #in J\n",
    "mu_n = 1350 #cm^2/(V s)\n",
    "mu_p = 480 #cm^2/(V s)\n",
    "\n",
    "eps_si = 11.7*eps_0 #F/cm"
   ]
  },
  {
   "cell_type": "markdown",
   "id": "eeb95c95-addc-4fc2-b9ed-7c231cb35828",
   "metadata": {
    "tags": []
   },
   "source": [
    "### First, let's look at the electron carrier concentration in undoped Silicon:\n",
    "\n",
    "Intrinsic carrier concentration in Silicon\n",
    "\n",
    "$n_i=5.2x10^{15}T^{3/2}exp({\\frac{-E_g}{2kT}}) $"
   ]
  },
  {
   "cell_type": "code",
   "execution_count": 3,
   "id": "fe9fc345-0e63-4d7a-a230-a13eb9dbfca3",
   "metadata": {},
   "outputs": [],
   "source": [
    "def n_i(Temp): return 5.2E15*math.pow(Temp,(3/2))*math.exp(-Eg/(2*k*Temp))"
   ]
  },
  {
   "cell_type": "markdown",
   "id": "5496e5c5-2786-4086-82ed-b3d7406ad666",
   "metadata": {},
   "source": [
    "#### Plot the carrier concentration from 250K to 350K (i.e. -23C to 77C)"
   ]
  },
  {
   "cell_type": "code",
   "execution_count": 15,
   "id": "bf99b09e-b7eb-4666-8df8-26d1fceed930",
   "metadata": {},
   "outputs": [],
   "source": [
    "Temps = np.arange(200.0,300.0,10.0)\n",
    "niplot = np.zeros_like(Temps)\n",
    "for i,Temp in enumerate(Temps):\n",
    "    niplot[i] = n_i(Temp)"
   ]
  },
  {
   "cell_type": "code",
   "execution_count": 16,
   "id": "54a52b24-5669-4035-98b2-386cad8f65a2",
   "metadata": {},
   "outputs": [
    {
     "data": {
      "image/png": "[encoded data removed]",
      "text/plain": [
       "<Figure size 432x288 with 1 Axes>"
      ]
     },
     "metadata": {
      "needs_background": "light"
     },
     "output_type": "display_data"
    }
   ],
   "source": [
    "plt.figure()\n",
    "plt.plot(Temps, niplot, color='b', linewidth=2.5)\n",
    "plt.xlabel('Temperature (K)', fontsize=18)\n",
    "plt.ylabel('Intrinsic carrier concentration', fontsize=18)\n",
    "\n",
    "ax = plt.gca()\n",
    "\n",
    "ax.set_yscale('log')\n",
    "\n",
    "for tick in ax.xaxis.get_major_ticks():\n",
    "    tick.label1.set_fontsize(14)\n",
    "for tick in ax.yaxis.get_major_ticks():\n",
    "    tick.label1.set_fontsize(14)\n"
   ]
  },
  {
   "cell_type": "markdown",
   "id": "da5893d7-2f5c-4fd7-839f-40956fc7dfb8",
   "metadata": {},
   "source": [
    "Notice the intrinsic carrier concentration varies by orders of magnitude over 100C."
   ]
  },
  {
   "cell_type": "markdown",
   "id": "a60dfa32-7b1f-447b-bce0-857fecdd80d8",
   "metadata": {},
   "source": [
    "### Using the mobility, we can determine the resistivity of Silicon with different free charge carrier levels\n",
    "\n",
    "The current density for Silicon with a free electron density of $n$, under an electric field of $E$, is:\n",
    "\n",
    "$J_n=\\mu_n E \\cdot{} n \\cdot{} q$\n",
    "\n",
    "Remember that $R = \\frac{V}{I}$, $E = \\frac{V}{L}$, and $J = \\frac{I}{\\sigma}$, where $\\sigma$ is the cross-sectional area.\n",
    "\n",
    "Resistivity $\\rho$ is resistance times area divided by length, giving $\\rho = \\frac{R \\cdot{} \\sigma}{L} = \\frac{V \\cdot{} \\sigma}{I \\cdot{} L} $.\n",
    "\n",
    "Substituting, we can write $\\rho = \\frac{E}{J_n} = \\frac{1}{\\mu_n \\cdot{} n \\cdot{} q}$\n"
   ]
  },
  {
   "cell_type": "markdown",
   "id": "a7185f24-e1f9-4c75-bfcf-30c2434204d3",
   "metadata": {},
   "source": [
    "Accounting for the holes as well as the electrons:\n",
    "\n",
    "$J=\\mu_n E \\cdot{} n \\cdot{} q + \\mu_p E \\cdot{} p \\cdot{} q$\n",
    "\n",
    "Note that the current densities add - because the oppositely charged carriers move in opposite directions under the electric field; i.e. they both contribute to the total net current.  This is different than what happens with diffusion, as we will see later.\n",
    "\n",
    "Using both holes and electron free carrier density, we can write $\\rho = \\frac{1}{\\mu_n \\cdot{} n \\cdot{} q + \\mu_p \\cdot{} p \\cdot{} q}$\n",
    "\n",
    "However, in most doped situations either the electron or hole density will dominate the resistivity."
   ]
  },
  {
   "cell_type": "code",
   "execution_count": 6,
   "id": "99365be3-0598-4d59-bd2f-c3feb2be9fab",
   "metadata": {},
   "outputs": [],
   "source": [
    "def rho_n(n): return 1/(mu_n*n*q)\n",
    "def rho_p(p): return 1/(mu_p*p*q)\n",
    "def rho(n,p): return 1/(mu_p*p*q + mu_n*n*q)\n"
   ]
  },
  {
   "cell_type": "markdown",
   "id": "031a5b62-5257-4a34-869b-4ba131f92352",
   "metadata": {},
   "source": [
    "What's the resistivity of intrinsic silicon?  Remember $np = n_i^2$, so for intrinsic silicon $n = p = n_i$"
   ]
  },
  {
   "cell_type": "code",
   "execution_count": 7,
   "id": "c15daad6-2c1f-4750-878e-38b10eb7c559",
   "metadata": {},
   "outputs": [
    {
     "data": {
      "text/plain": [
       "316932.8613622433"
      ]
     },
     "execution_count": 7,
     "metadata": {},
     "output_type": "execute_result"
    }
   ],
   "source": [
    "rho(n_i(300),n_i(300))"
   ]
  },
  {
   "cell_type": "markdown",
   "id": "f7d5dfef-0fe4-44b7-91d3-37c8ac812807",
   "metadata": {},
   "source": [
    "It's high - pure silicon is not a good conductor at room temperature (hence the \"semi-\")"
   ]
  },
  {
   "cell_type": "markdown",
   "id": "5351e5ca-7c40-4332-bb51-e7070d7cf3ee",
   "metadata": {},
   "source": [
    "### Now let's look at the built-in potential\n",
    "\n",
    "Built-in potential\n",
    "\n",
    "$V_0=\\frac{kT}{q} ln(\\frac{N_A N_D}{n_i^2})$"
   ]
  },
  {
   "cell_type": "code",
   "execution_count": 8,
   "id": "c05281b8-451c-4ea4-b369-158a79149ea8",
   "metadata": {},
   "outputs": [],
   "source": [
    "def V_0(Na,Nd,Temp): return (k*Temp/q)*math.log(Na*Nd/math.pow(n_i(Temp),2))"
   ]
  },
  {
   "cell_type": "markdown",
   "id": "e2d5decf-f9e4-48eb-822e-11faf07f0e27",
   "metadata": {},
   "source": [
    "#### Plot the change in the built-in potential with across doping levels (keep Na at 2x10^16)"
   ]
  },
  {
   "cell_type": "code",
   "execution_count": 9,
   "id": "0a9911d6-83be-4ddd-bd40-bbe8a5d77922",
   "metadata": {},
   "outputs": [],
   "source": [
    "Nds = np.arange(14.0,18.0,0.1)\n",
    "Nds = 10**Nds\n",
    "v0plot = np.zeros_like(Nds)\n",
    "for i,Nd in enumerate(Nds):\n",
    "    v0plot[i] = V_0(2E16,Nd,300)"
   ]
  },
  {
   "cell_type": "code",
   "execution_count": 10,
   "id": "607f31d5-9a6b-48d5-99dd-b966ff71bc68",
   "metadata": {},
   "outputs": [
    {
     "data": {
      "image/png": "[encoded data removed]",
      "text/plain": [
       "<Figure size 432x288 with 1 Axes>"
      ]
     },
     "metadata": {
      "needs_background": "light"
     },
     "output_type": "display_data"
    }
   ],
   "source": [
    "plt.figure()\n",
    "plt.plot(Nds, v0plot, color='b', linewidth=2.5)\n",
    "plt.xlabel('Doping level (cm^-3)', fontsize=18)\n",
    "plt.ylabel('Built-in voltage', fontsize=18)\n",
    "\n",
    "ax = plt.gca()\n",
    "ax.set_xscale('log')\n",
    "\n",
    "for tick in ax.xaxis.get_major_ticks():\n",
    "    tick.label1.set_fontsize(14)\n",
    "for tick in ax.yaxis.get_major_ticks():\n",
    "    tick.label1.set_fontsize(14)\n"
   ]
  },
  {
   "cell_type": "code",
   "execution_count": 11,
   "id": "16591c6c-e25d-412c-bc7e-0ef5038c32cc",
   "metadata": {},
   "outputs": [
    {
     "data": {
      "text/plain": [
       "-0.05957938928122086"
      ]
     },
     "execution_count": 11,
     "metadata": {},
     "output_type": "execute_result"
    }
   ],
   "source": [
    "V_0(2E16,2E16,300) - V_0(2E17,2E16,300)\n"
   ]
  },
  {
   "cell_type": "code",
   "execution_count": 12,
   "id": "78a74b01-170f-4f2c-b62a-985587bce21a",
   "metadata": {},
   "outputs": [],
   "source": [
    "def Cj_0(Na,Nd,Temp): return math.sqrt(eps_si*q*Na*Nd/(2*(Na+Nd)*V_0(Na,Nd,Temp)))\n",
    "\n",
    "def Cj(Vr,Na,Nd,Temp): return Cj_0(Na,Nd,Temp)/math.sqrt(1.0-(Vr/V_0(Na,Nd,Temp)))"
   ]
  },
  {
   "cell_type": "code",
   "execution_count": 13,
   "id": "5ce8af55-47b6-4605-8f88-a471fb51b704",
   "metadata": {},
   "outputs": [
    {
     "data": {
      "text/plain": [
       "2.6606681855240156e-08"
      ]
     },
     "execution_count": 13,
     "metadata": {},
     "output_type": "execute_result"
    }
   ],
   "source": [
    "Cj_0(2E16,9E15,300)"
   ]
  },
  {
   "cell_type": "code",
   "execution_count": 14,
   "id": "49a713d2-1e90-470e-97af-5b625635c854",
   "metadata": {},
   "outputs": [
    {
     "data": {
      "text/plain": [
       "1.7257961194583908e-08"
      ]
     },
     "execution_count": 14,
     "metadata": {},
     "output_type": "execute_result"
    }
   ],
   "source": [
    "Cj(-1.0,2E16,9E15,300)"
   ]
  },
  {
   "cell_type": "code",
   "execution_count": null,
   "id": "583f3895-cf9f-40f0-a410-96ef31b15448",
   "metadata": {},
   "outputs": [],
   "source": []
  }
 ],
 "metadata": {
  "kernelspec": {
   "display_name": "Python 3 (ipykernel)",
   "language": "python",
   "name": "python3"
  },
  "language_info": {
   "codemirror_mode": {
    "name": "ipython",
    "version": 3
   },
   "file_extension": ".py",
   "mimetype": "text/x-python",
   "name": "python",
   "nbconvert_exporter": "python",
   "pygments_lexer": "ipython3",
   "version": "3.7.3"
  }
 },
 "nbformat": 4,
 "nbformat_minor": 5
}
